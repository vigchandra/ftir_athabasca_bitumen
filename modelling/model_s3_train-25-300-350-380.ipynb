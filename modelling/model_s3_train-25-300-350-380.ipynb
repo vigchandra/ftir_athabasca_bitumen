{
 "cells": [
  {
   "cell_type": "code",
   "execution_count": 2,
   "metadata": {},
   "outputs": [
    {
     "data": {
      "text/plain": [
       "DataTransformerRegistry.enable('default')"
      ]
     },
     "execution_count": 2,
     "metadata": {},
     "output_type": "execute_result"
    }
   ],
   "source": [
    "import pandas as pd\n",
    "from sklearn.model_selection import train_test_split\n",
    "from sklearn.linear_model import LinearRegression\n",
    "from sklearn.ensemble import RandomForestRegressor\n",
    "from sklearn.svm import SVR\n",
    "from sklearn import tree\n",
    "from sklearn.tree import export_graphviz\n",
    "import altair as alt\n",
    "from dtreeviz.trees import dtreeviz # will be used for tree visualization\n",
    "from matplotlib import pyplot as plt\n",
    "from sklearn.cross_decomposition import PLSRegression\n",
    "from sklearn.ensemble import GradientBoostingRegressor\n",
    "alt.data_transformers.disable_max_rows()"
   ]
  },
  {
   "cell_type": "markdown",
   "metadata": {},
   "source": [
    "## File Import"
   ]
  },
  {
   "cell_type": "code",
   "execution_count": 3,
   "metadata": {},
   "outputs": [
    {
     "data": {
      "text/html": [
       "<div>\n",
       "<style scoped>\n",
       "    .dataframe tbody tr th:only-of-type {\n",
       "        vertical-align: middle;\n",
       "    }\n",
       "\n",
       "    .dataframe tbody tr th {\n",
       "        vertical-align: top;\n",
       "    }\n",
       "\n",
       "    .dataframe thead th {\n",
       "        text-align: right;\n",
       "    }\n",
       "</style>\n",
       "<table border=\"1\" class=\"dataframe\">\n",
       "  <thead>\n",
       "    <tr style=\"text-align: right;\">\n",
       "      <th></th>\n",
       "      <th>wave</th>\n",
       "      <th>temp</th>\n",
       "      <th>time</th>\n",
       "      <th>intensity</th>\n",
       "    </tr>\n",
       "  </thead>\n",
       "  <tbody>\n",
       "    <tr>\n",
       "      <th>0</th>\n",
       "      <td>599.8177</td>\n",
       "      <td>25</td>\n",
       "      <td>0</td>\n",
       "      <td>92.4064</td>\n",
       "    </tr>\n",
       "    <tr>\n",
       "      <th>1</th>\n",
       "      <td>601.7464</td>\n",
       "      <td>25</td>\n",
       "      <td>0</td>\n",
       "      <td>93.1177</td>\n",
       "    </tr>\n",
       "    <tr>\n",
       "      <th>2</th>\n",
       "      <td>603.6751</td>\n",
       "      <td>25</td>\n",
       "      <td>0</td>\n",
       "      <td>93.3507</td>\n",
       "    </tr>\n",
       "    <tr>\n",
       "      <th>3</th>\n",
       "      <td>605.6037</td>\n",
       "      <td>25</td>\n",
       "      <td>0</td>\n",
       "      <td>93.2874</td>\n",
       "    </tr>\n",
       "    <tr>\n",
       "      <th>4</th>\n",
       "      <td>607.5324</td>\n",
       "      <td>25</td>\n",
       "      <td>0</td>\n",
       "      <td>93.8345</td>\n",
       "    </tr>\n",
       "    <tr>\n",
       "      <th>...</th>\n",
       "      <td>...</td>\n",
       "      <td>...</td>\n",
       "      <td>...</td>\n",
       "      <td>...</td>\n",
       "    </tr>\n",
       "    <tr>\n",
       "      <th>61735</th>\n",
       "      <td>3992.3559</td>\n",
       "      <td>420</td>\n",
       "      <td>660</td>\n",
       "      <td>99.9956</td>\n",
       "    </tr>\n",
       "    <tr>\n",
       "      <th>61736</th>\n",
       "      <td>3994.2846</td>\n",
       "      <td>420</td>\n",
       "      <td>660</td>\n",
       "      <td>99.8334</td>\n",
       "    </tr>\n",
       "    <tr>\n",
       "      <th>61737</th>\n",
       "      <td>3996.2132</td>\n",
       "      <td>420</td>\n",
       "      <td>660</td>\n",
       "      <td>99.8121</td>\n",
       "    </tr>\n",
       "    <tr>\n",
       "      <th>61738</th>\n",
       "      <td>3998.1419</td>\n",
       "      <td>420</td>\n",
       "      <td>660</td>\n",
       "      <td>99.8471</td>\n",
       "    </tr>\n",
       "    <tr>\n",
       "      <th>61739</th>\n",
       "      <td>4000.0706</td>\n",
       "      <td>420</td>\n",
       "      <td>660</td>\n",
       "      <td>99.8816</td>\n",
       "    </tr>\n",
       "  </tbody>\n",
       "</table>\n",
       "<p>61740 rows × 4 columns</p>\n",
       "</div>"
      ],
      "text/plain": [
       "            wave  temp  time  intensity\n",
       "0       599.8177    25     0    92.4064\n",
       "1       601.7464    25     0    93.1177\n",
       "2       603.6751    25     0    93.3507\n",
       "3       605.6037    25     0    93.2874\n",
       "4       607.5324    25     0    93.8345\n",
       "...          ...   ...   ...        ...\n",
       "61735  3992.3559   420   660    99.9956\n",
       "61736  3994.2846   420   660    99.8334\n",
       "61737  3996.2132   420   660    99.8121\n",
       "61738  3998.1419   420   660    99.8471\n",
       "61739  4000.0706   420   660    99.8816\n",
       "\n",
       "[61740 rows x 4 columns]"
      ]
     },
     "execution_count": 3,
     "metadata": {},
     "output_type": "execute_result"
    }
   ],
   "source": [
    "df = pd.read_csv(\"../input/processed_input.csv\", index_col = None)\n",
    "#df = df.drop(columns = 'Unnamed: 0')\n",
    "df"
   ]
  },
  {
   "cell_type": "code",
   "execution_count": 4,
   "metadata": {},
   "outputs": [],
   "source": [
    "def test_train_compound(df):\n",
    "    \"\"\"\n",
    "    Function to split test/train data for each compound\n",
    "    \n",
    "    Argument:\n",
    "        df      : pandas dataframe\n",
    "        \n",
    "    Output:\n",
    "        X_train, X_test, y_train, y_test : 4 pandas dataframe which have the split data \n",
    "    \"\"\"\n",
    " \n",
    "    \n",
    "    X_train = df.query('temp in [25,300,350,380]')[[\"wave\", \"temp\", \"time\"]]\n",
    "    y_train = df.query('temp in [25,300,350,380]')[[\"intensity\"]].values.ravel()\n",
    "    \n",
    "    X_test = df.query('temp not in [25,300,350,380]')[[\"wave\", \"temp\", \"time\"]]\n",
    "    y_test = df.query('temp not in [25,300,350,380]')[[\"intensity\"]].values.ravel()\n",
    "    \n",
    "    return X_train, X_test, y_train, y_test"
   ]
  },
  {
   "cell_type": "code",
   "execution_count": 5,
   "metadata": {},
   "outputs": [
    {
     "data": {
      "text/html": [
       "<div>\n",
       "<style scoped>\n",
       "    .dataframe tbody tr th:only-of-type {\n",
       "        vertical-align: middle;\n",
       "    }\n",
       "\n",
       "    .dataframe tbody tr th {\n",
       "        vertical-align: top;\n",
       "    }\n",
       "\n",
       "    .dataframe thead th {\n",
       "        text-align: right;\n",
       "    }\n",
       "</style>\n",
       "<table border=\"1\" class=\"dataframe\">\n",
       "  <thead>\n",
       "    <tr style=\"text-align: right;\">\n",
       "      <th></th>\n",
       "      <th>Model</th>\n",
       "      <th>Compound</th>\n",
       "      <th>Train Accuracy</th>\n",
       "      <th>Test Accuracy</th>\n",
       "    </tr>\n",
       "  </thead>\n",
       "  <tbody>\n",
       "  </tbody>\n",
       "</table>\n",
       "</div>"
      ],
      "text/plain": [
       "Empty DataFrame\n",
       "Columns: [Model, Compound, Train Accuracy, Test Accuracy]\n",
       "Index: []"
      ]
     },
     "execution_count": 5,
     "metadata": {},
     "output_type": "execute_result"
    }
   ],
   "source": [
    "df_results = pd.DataFrame({'Model': [],\n",
    "                           'Compound' : [],\n",
    "                           'Train Accuracy': [],\n",
    "                           'Test Accuracy' : []\n",
    "                           })\n",
    "df_results"
   ]
  },
  {
   "cell_type": "code",
   "execution_count": 6,
   "metadata": {},
   "outputs": [
    {
     "data": {
      "text/html": [
       "<div>\n",
       "<style scoped>\n",
       "    .dataframe tbody tr th:only-of-type {\n",
       "        vertical-align: middle;\n",
       "    }\n",
       "\n",
       "    .dataframe tbody tr th {\n",
       "        vertical-align: top;\n",
       "    }\n",
       "\n",
       "    .dataframe thead th {\n",
       "        text-align: right;\n",
       "    }\n",
       "</style>\n",
       "<table border=\"1\" class=\"dataframe\">\n",
       "  <thead>\n",
       "    <tr style=\"text-align: right;\">\n",
       "      <th></th>\n",
       "      <th>Model</th>\n",
       "      <th>Compound</th>\n",
       "      <th>Train Accuracy</th>\n",
       "      <th>Test Accuracy</th>\n",
       "    </tr>\n",
       "  </thead>\n",
       "  <tbody>\n",
       "  </tbody>\n",
       "</table>\n",
       "</div>"
      ],
      "text/plain": [
       "Empty DataFrame\n",
       "Columns: [Model, Compound, Train Accuracy, Test Accuracy]\n",
       "Index: []"
      ]
     },
     "execution_count": 6,
     "metadata": {},
     "output_type": "execute_result"
    }
   ],
   "source": [
    "df_results"
   ]
  },
  {
   "cell_type": "markdown",
   "metadata": {},
   "source": [
    "## Summary"
   ]
  },
  {
   "cell_type": "markdown",
   "metadata": {},
   "source": [
    "## Linear Modelling"
   ]
  },
  {
   "cell_type": "code",
   "execution_count": 7,
   "metadata": {},
   "outputs": [
    {
     "name": "stdout",
     "output_type": "stream",
     "text": [
      "The 4 matrices are of sizes:  (26460, 3) (35280, 3) (26460,) (35280,)\n",
      "The training accuracy for the model is  0.12001314677071695\n",
      "The testing accuracy for the model is  0.045340319013935315\n"
     ]
    }
   ],
   "source": [
    "def linear_model(df):\n",
    "    X_train, X_test, y_train, y_test = test_train_compound(df)\n",
    "    print(\"The 4 matrices are of sizes: \", X_train.shape, X_test.shape, y_train.shape, y_test.shape)\n",
    "    lr = LinearRegression().fit(X_train, y_train)\n",
    "    \n",
    "    \n",
    "    df_pred = df.copy()\n",
    "    df_pred['predicted_intensity'] = lr.predict(df[[\"wave\", \"temp\", \"time\"]])\n",
    "    df_pred.to_csv('../output/scenario3/prediction_lr.csv')\n",
    "    \n",
    "    \n",
    "    print(\"The training accuracy for the model is \", lr.score(X_train, y_train))\n",
    "    print(\"The testing accuracy for the model is \", lr.score(X_test, y_test))\n",
    "    return pd.DataFrame({'Model': 'Linear Regression',\n",
    "                           'Train Accuracy': lr.score(X_train, y_train),\n",
    "                           'Test Accuracy' : lr.score(X_test, y_test)}, index = [None])\n",
    "    \n",
    "df_results = df_results.append(linear_model(df))"
   ]
  },
  {
   "cell_type": "markdown",
   "metadata": {},
   "source": [
    "## PLSR"
   ]
  },
  {
   "cell_type": "code",
   "execution_count": 8,
   "metadata": {},
   "outputs": [
    {
     "name": "stdout",
     "output_type": "stream",
     "text": [
      "The 4 matrices are of sizes:  (26460, 3) (35280, 3) (26460,) (35280,)\n",
      "The training accuracy for the model is  0.11991389347905636\n",
      "The testing accuracy for the model is  0.04862776644487177\n"
     ]
    }
   ],
   "source": [
    "def pls2(df):\n",
    "    X_train, X_test, y_train, y_test = test_train_compound(df)\n",
    "    print(\"The 4 matrices are of sizes: \", X_train.shape, X_test.shape, y_train.shape, y_test.shape)\n",
    "    pls2 = PLSRegression(n_components=2).fit(X_train, y_train)\n",
    "    \n",
    "    \n",
    "    df_pred = df.copy()\n",
    "    df_pred['predicted_wt'] = pls2.predict(df[[\"wave\", \"temp\", \"time\"]])\n",
    "    df_pred.to_csv('../output/scenario3/prediction_plsr2.csv')\n",
    "    \n",
    "    \n",
    "    print(\"The training accuracy for the model is \", pls2.score(X_train, y_train))\n",
    "    print(\"The testing accuracy for the model is \", pls2.score(X_test, y_test))\n",
    "    return pd.DataFrame({'Model': 'Partial Least Squares (n=2)',\n",
    "                           'Train Accuracy': pls2.score(X_train, y_train),\n",
    "                           'Test Accuracy' : pls2.score(X_test, y_test)}, index = [None])\n",
    "\n",
    "\n",
    "df_results = df_results.append(pls2(df))"
   ]
  },
  {
   "cell_type": "code",
   "execution_count": 9,
   "metadata": {},
   "outputs": [
    {
     "data": {
      "text/html": [
       "<div>\n",
       "<style scoped>\n",
       "    .dataframe tbody tr th:only-of-type {\n",
       "        vertical-align: middle;\n",
       "    }\n",
       "\n",
       "    .dataframe tbody tr th {\n",
       "        vertical-align: top;\n",
       "    }\n",
       "\n",
       "    .dataframe thead th {\n",
       "        text-align: right;\n",
       "    }\n",
       "</style>\n",
       "<table border=\"1\" class=\"dataframe\">\n",
       "  <thead>\n",
       "    <tr style=\"text-align: right;\">\n",
       "      <th></th>\n",
       "      <th>Model</th>\n",
       "      <th>Compound</th>\n",
       "      <th>Train Accuracy</th>\n",
       "      <th>Test Accuracy</th>\n",
       "    </tr>\n",
       "  </thead>\n",
       "  <tbody>\n",
       "    <tr>\n",
       "      <th>NaN</th>\n",
       "      <td>Linear Regression</td>\n",
       "      <td>NaN</td>\n",
       "      <td>0.120013</td>\n",
       "      <td>0.045340</td>\n",
       "    </tr>\n",
       "    <tr>\n",
       "      <th>NaN</th>\n",
       "      <td>Partial Least Squares (n=2)</td>\n",
       "      <td>NaN</td>\n",
       "      <td>0.119914</td>\n",
       "      <td>0.048628</td>\n",
       "    </tr>\n",
       "  </tbody>\n",
       "</table>\n",
       "</div>"
      ],
      "text/plain": [
       "                           Model  Compound  Train Accuracy  Test Accuracy\n",
       "NaN            Linear Regression       NaN        0.120013       0.045340\n",
       "NaN  Partial Least Squares (n=2)       NaN        0.119914       0.048628"
      ]
     },
     "execution_count": 9,
     "metadata": {},
     "output_type": "execute_result"
    }
   ],
   "source": [
    "df_results"
   ]
  },
  {
   "cell_type": "code",
   "execution_count": 10,
   "metadata": {},
   "outputs": [
    {
     "name": "stdout",
     "output_type": "stream",
     "text": [
      "The 4 matrices are of sizes:  (26460, 3) (35280, 3) (26460,) (35280,)\n",
      "The training accuracy for the model is  0.12001314677071695\n",
      "The testing accuracy for the model is  0.04534031901393565\n"
     ]
    }
   ],
   "source": [
    "def pls3(df):\n",
    "    X_train, X_test, y_train, y_test = test_train_compound(df)\n",
    "    print(\"The 4 matrices are of sizes: \", X_train.shape, X_test.shape, y_train.shape, y_test.shape)\n",
    "    pls3 = PLSRegression(n_components=3).fit(X_train, y_train)\n",
    "    \n",
    "    \n",
    "    df_pred = df.copy()\n",
    "    df_pred['predicted_wt'] = pls3.predict(df[[\"wave\", \"temp\", \"time\"]])\n",
    "    df_pred.to_csv('../output/scenario3/prediction_plsr3.csv')\n",
    "    \n",
    "    \n",
    "    print(\"The training accuracy for the model is \", pls3.score(X_train, y_train))\n",
    "    print(\"The testing accuracy for the model is \", pls3.score(X_test, y_test))\n",
    "    return pd.DataFrame({'Model': 'Partial Least Squares (n=3)',\n",
    "                           'Train Accuracy': pls3.score(X_train, y_train),\n",
    "                           'Test Accuracy' : pls3.score(X_test, y_test)}, index = [None])\n",
    "\n",
    "\n",
    "df_results = df_results.append(pls3(df))"
   ]
  },
  {
   "cell_type": "markdown",
   "metadata": {},
   "source": [
    "## Random forest"
   ]
  },
  {
   "cell_type": "code",
   "execution_count": 11,
   "metadata": {},
   "outputs": [
    {
     "name": "stdout",
     "output_type": "stream",
     "text": [
      "The 4 matrices are of sizes:  (26460, 3) (35280, 3) (26460,) (35280,)\n",
      "The training accuracy for the model is  0.16950320039064026\n",
      "The testing accuracy for the model is  0.08447032566693302\n"
     ]
    }
   ],
   "source": [
    "def random_forest(df):\n",
    "    X_train, X_test, y_train, y_test = test_train_compound(df)\n",
    "    print(\"The 4 matrices are of sizes: \", X_train.shape, X_test.shape, y_train.shape, y_test.shape)\n",
    "    rf2 = RandomForestRegressor(random_state=0, max_depth = 2).fit(X_train, y_train)\n",
    "    \n",
    "    \n",
    "    df_pred = df.copy()\n",
    "    df_pred['predicted_wt'] = rf2.predict(df[[\"wave\", \"temp\", \"time\"]])\n",
    "    df_pred.to_csv('../output/scenario3/prediction_rf2.csv')\n",
    "    \n",
    "    \n",
    "    print(\"The training accuracy for the model is \", rf2.score(X_train, y_train))\n",
    "    print(\"The testing accuracy for the model is \", rf2.score(X_test, y_test))\n",
    "    \n",
    "    return pd.DataFrame({'Model': 'Random Forest Regression (max_depth = 2)',\n",
    "                           'Train Accuracy': rf2.score(X_train, y_train),\n",
    "                           'Test Accuracy' : rf2.score(X_test, y_test)}, index=[None])\n",
    "\n",
    "df_results = df_results.append(random_forest(df))"
   ]
  },
  {
   "cell_type": "code",
   "execution_count": 12,
   "metadata": {},
   "outputs": [
    {
     "name": "stdout",
     "output_type": "stream",
     "text": [
      "The 4 matrices are of sizes:  (26460, 3) (35280, 3) (26460,) (35280,)\n",
      "The training accuracy for the model is  0.8678704546865357\n",
      "The testing accuracy for the model is  0.6971027350345377\n"
     ]
    }
   ],
   "source": [
    "def random_forest(df):\n",
    "    X_train, X_test, y_train, y_test = test_train_compound(df)\n",
    "    print(\"The 4 matrices are of sizes: \", X_train.shape, X_test.shape, y_train.shape, y_test.shape)\n",
    "    rf5 = RandomForestRegressor(random_state=0, max_depth = 5).fit(X_train, y_train)\n",
    "    \n",
    "    \n",
    "    df_pred = df.copy()\n",
    "    df_pred['predicted_wt'] = rf5.predict(df[[\"wave\", \"temp\", \"time\"]])\n",
    "    df_pred.to_csv('../output/scenario3/prediction_rf5.csv')\n",
    "    \n",
    "    \n",
    "    print(\"The training accuracy for the model is \", rf5.score(X_train, y_train))\n",
    "    print(\"The testing accuracy for the model is \", rf5.score(X_test, y_test))\n",
    "    \n",
    "    return pd.DataFrame({'Model': 'Random Forest Regression (max_depth = 5)',\n",
    "                           'Train Accuracy': rf5.score(X_train, y_train),\n",
    "                           'Test Accuracy' : rf5.score(X_test, y_test)}, index=[None])\n",
    "\n",
    "df_results = df_results.append(random_forest(df))"
   ]
  },
  {
   "cell_type": "code",
   "execution_count": 13,
   "metadata": {},
   "outputs": [
    {
     "name": "stdout",
     "output_type": "stream",
     "text": [
      "The 4 matrices are of sizes:  (26460, 3) (35280, 3) (26460,) (35280,)\n",
      "The training accuracy for the model is  0.95041045658869\n",
      "The testing accuracy for the model is  0.7727318025371203\n"
     ]
    }
   ],
   "source": [
    "def random_forest(df):\n",
    "    X_train, X_test, y_train, y_test = test_train_compound(df)\n",
    "    print(\"The 4 matrices are of sizes: \", X_train.shape, X_test.shape, y_train.shape, y_test.shape)\n",
    "    rf7 = RandomForestRegressor(random_state=0, max_depth = 7).fit(X_train, y_train)\n",
    "    \n",
    "    \n",
    "    df_pred = df.copy()\n",
    "    df_pred['predicted_wt'] = rf7.predict(df[[\"wave\", \"temp\", \"time\"]])\n",
    "    df_pred.to_csv('../output/scenario3/prediction_rf7.csv')\n",
    "    \n",
    "    \n",
    "    print(\"The training accuracy for the model is \", rf7.score(X_train, y_train))\n",
    "    print(\"The testing accuracy for the model is \", rf7.score(X_test, y_test))\n",
    "    \n",
    "    return pd.DataFrame({'Model': 'Random Forest Regression (max_depth = 7)',\n",
    "                           'Train Accuracy': rf7.score(X_train, y_train),\n",
    "                           'Test Accuracy' : rf7.score(X_test, y_test)}, index=[None])\n",
    "\n",
    "df_results = df_results.append(random_forest(df))"
   ]
  },
  {
   "cell_type": "code",
   "execution_count": 14,
   "metadata": {},
   "outputs": [
    {
     "name": "stdout",
     "output_type": "stream",
     "text": [
      "The 4 matrices are of sizes:  (26460, 3) (35280, 3) (26460,) (35280,)\n",
      "The training accuracy for the model is  0.9867558907172492\n",
      "The testing accuracy for the model is  0.7903321227571191\n"
     ]
    }
   ],
   "source": [
    "def random_forest(df):\n",
    "    X_train, X_test, y_train, y_test = test_train_compound(df)\n",
    "    print(\"The 4 matrices are of sizes: \", X_train.shape, X_test.shape, y_train.shape, y_test.shape)\n",
    "    rf10 = RandomForestRegressor(random_state=0, max_depth = 10).fit(X_train, y_train)\n",
    "    \n",
    "    \n",
    "    df_pred = df.copy()\n",
    "    df_pred['predicted_wt'] = rf10.predict(df[[\"wave\", \"temp\", \"time\"]])\n",
    "    df_pred.to_csv('../output/scenario3/prediction_rf10.csv')\n",
    "    \n",
    "    \n",
    "    print(\"The training accuracy for the model is \", rf10.score(X_train, y_train))\n",
    "    print(\"The testing accuracy for the model is \", rf10.score(X_test, y_test))\n",
    "    \n",
    "    return pd.DataFrame({'Model': 'Random Forest Regression (max_depth = 10)',\n",
    "                           'Train Accuracy': rf10.score(X_train, y_train),\n",
    "                           'Test Accuracy' : rf10.score(X_test, y_test)}, index=[None])\n",
    "\n",
    "df_results = df_results.append(random_forest(df))"
   ]
  },
  {
   "cell_type": "code",
   "execution_count": 15,
   "metadata": {},
   "outputs": [
    {
     "name": "stdout",
     "output_type": "stream",
     "text": [
      "The 4 matrices are of sizes:  (26460, 3) (35280, 3) (26460,) (35280,)\n",
      "The training accuracy for the model is  0.9981127818795544\n",
      "The testing accuracy for the model is  0.7863526115670908\n"
     ]
    }
   ],
   "source": [
    "def random_forest(df):\n",
    "    X_train, X_test, y_train, y_test = test_train_compound(df)\n",
    "    print(\"The 4 matrices are of sizes: \", X_train.shape, X_test.shape, y_train.shape, y_test.shape)\n",
    "    rf15 = RandomForestRegressor(random_state=0, max_depth = 15).fit(X_train, y_train)\n",
    "    \n",
    "    \n",
    "    df_pred = df.copy()\n",
    "    df_pred['predicted_wt'] = rf15.predict(df[[\"wave\", \"temp\", \"time\"]])\n",
    "    df_pred.to_csv('../output/scenario3/prediction_rf15.csv')\n",
    "    \n",
    "    \n",
    "    print(\"The training accuracy for the model is \", rf15.score(X_train, y_train))\n",
    "    print(\"The testing accuracy for the model is \", rf15.score(X_test, y_test))\n",
    "    \n",
    "    return pd.DataFrame({'Model': 'Random Forest Regression (max_depth = 15)',\n",
    "                           'Train Accuracy': rf15.score(X_train, y_train),\n",
    "                           'Test Accuracy' : rf15.score(X_test, y_test)}, index=[None])\n",
    "\n",
    "df_results = df_results.append(random_forest(df))"
   ]
  },
  {
   "cell_type": "code",
   "execution_count": null,
   "metadata": {},
   "outputs": [],
   "source": [
    "n_est = [1,2,3,5,10,20,30,50,100]\n",
    "max_depth = range(7,18)\n",
    "X_train, X_test, y_train, y_test = test_train_compound(df)\n",
    "trees = []\n",
    "train_acc = []\n",
    "test_acc = []\n",
    "depth = []\n",
    "for j in max_depth:\n",
    "    for i in n_est:\n",
    "        trees.append(i)\n",
    "        depth.append(j)\n",
    "        rf = RandomForestRegressor(n_estimators = i, max_depth = j, random_state=0).fit(X_train, y_train)\n",
    "        train_acc.append(rf.score(X_train, y_train))\n",
    "        test_acc.append(rf.score(X_test, y_test))\n",
    "        #print(j,i)\n",
    "df_rf = pd.DataFrame({'training' : train_acc,\n",
    "                      'testing' : test_acc,\n",
    "                      'n_estimator' : trees,\n",
    "                      'max_depth' : depth})\n",
    "df_rf = df_rf.melt(id_vars = ['n_estimator', 'max_depth'], var_name = 'Type', value_name = 'Accuracy')\n",
    "df_rf"
   ]
  },
  {
   "cell_type": "code",
   "execution_count": 22,
   "metadata": {},
   "outputs": [
    {
     "data": {
      "application/vnd.vegalite.v3+json": {
       "$schema": "https://vega.github.io/schema/vega-lite/v3.4.0.json",
       "columns": 3,
       "config": {
        "mark": {
         "tooltip": null
        },
        "view": {
         "height": 300,
         "width": 400
        }
       },
       "data": {
        "name": "data-a6528d4df688a267818caff477e7ec29"
       },
       "datasets": {
        "data-a6528d4df688a267818caff477e7ec29": [
         {
          "Accuracy": 0.9463283539406007,
          "Type": "training",
          "max_depth": 7,
          "n_estimator": 1
         },
         {
          "Accuracy": 0.9472979721865219,
          "Type": "training",
          "max_depth": 7,
          "n_estimator": 2
         },
         {
          "Accuracy": 0.9485554713746405,
          "Type": "training",
          "max_depth": 7,
          "n_estimator": 3
         },
         {
          "Accuracy": 0.9499577125939181,
          "Type": "training",
          "max_depth": 7,
          "n_estimator": 5
         },
         {
          "Accuracy": 0.9505756755172552,
          "Type": "training",
          "max_depth": 7,
          "n_estimator": 10
         },
         {
          "Accuracy": 0.9503867317582556,
          "Type": "training",
          "max_depth": 7,
          "n_estimator": 20
         },
         {
          "Accuracy": 0.9506841756074685,
          "Type": "training",
          "max_depth": 7,
          "n_estimator": 30
         },
         {
          "Accuracy": 0.9507309195519145,
          "Type": "training",
          "max_depth": 7,
          "n_estimator": 50
         },
         {
          "Accuracy": 0.95041045658869,
          "Type": "training",
          "max_depth": 7,
          "n_estimator": 100
         },
         {
          "Accuracy": 0.962038005256168,
          "Type": "training",
          "max_depth": 8,
          "n_estimator": 1
         },
         {
          "Accuracy": 0.9640126998800457,
          "Type": "training",
          "max_depth": 8,
          "n_estimator": 2
         },
         {
          "Accuracy": 0.9659549576432567,
          "Type": "training",
          "max_depth": 8,
          "n_estimator": 3
         },
         {
          "Accuracy": 0.9671150318763575,
          "Type": "training",
          "max_depth": 8,
          "n_estimator": 5
         },
         {
          "Accuracy": 0.9679267182114877,
          "Type": "training",
          "max_depth": 8,
          "n_estimator": 10
         },
         {
          "Accuracy": 0.9682306986961913,
          "Type": "training",
          "max_depth": 8,
          "n_estimator": 20
         },
         {
          "Accuracy": 0.9684120932945255,
          "Type": "training",
          "max_depth": 8,
          "n_estimator": 30
         },
         {
          "Accuracy": 0.968357804585322,
          "Type": "training",
          "max_depth": 8,
          "n_estimator": 50
         },
         {
          "Accuracy": 0.9683450998193333,
          "Type": "training",
          "max_depth": 8,
          "n_estimator": 100
         },
         {
          "Accuracy": 0.9769172532338309,
          "Type": "training",
          "max_depth": 9,
          "n_estimator": 1
         },
         {
          "Accuracy": 0.9785639591738724,
          "Type": "training",
          "max_depth": 9,
          "n_estimator": 2
         },
         {
          "Accuracy": 0.9800061811076723,
          "Type": "training",
          "max_depth": 9,
          "n_estimator": 3
         },
         {
          "Accuracy": 0.9805881235090745,
          "Type": "training",
          "max_depth": 9,
          "n_estimator": 5
         },
         {
          "Accuracy": 0.980787397675051,
          "Type": "training",
          "max_depth": 9,
          "n_estimator": 10
         },
         {
          "Accuracy": 0.981117128399823,
          "Type": "training",
          "max_depth": 9,
          "n_estimator": 20
         },
         {
          "Accuracy": 0.981168700671918,
          "Type": "training",
          "max_depth": 9,
          "n_estimator": 30
         },
         {
          "Accuracy": 0.98108196253311,
          "Type": "training",
          "max_depth": 9,
          "n_estimator": 50
         },
         {
          "Accuracy": 0.981062282917999,
          "Type": "training",
          "max_depth": 9,
          "n_estimator": 100
         },
         {
          "Accuracy": 0.9833264400681282,
          "Type": "training",
          "max_depth": 10,
          "n_estimator": 1
         },
         {
          "Accuracy": 0.9850195010202839,
          "Type": "training",
          "max_depth": 10,
          "n_estimator": 2
         },
         {
          "Accuracy": 0.9856653792318651,
          "Type": "training",
          "max_depth": 10,
          "n_estimator": 3
         },
         {
          "Accuracy": 0.9861629602127455,
          "Type": "training",
          "max_depth": 10,
          "n_estimator": 5
         },
         {
          "Accuracy": 0.9865283949662652,
          "Type": "training",
          "max_depth": 10,
          "n_estimator": 10
         },
         {
          "Accuracy": 0.9867447012979012,
          "Type": "training",
          "max_depth": 10,
          "n_estimator": 20
         },
         {
          "Accuracy": 0.9868226142743567,
          "Type": "training",
          "max_depth": 10,
          "n_estimator": 30
         },
         {
          "Accuracy": 0.986726280167923,
          "Type": "training",
          "max_depth": 10,
          "n_estimator": 50
         },
         {
          "Accuracy": 0.9867558907172492,
          "Type": "training",
          "max_depth": 10,
          "n_estimator": 100
         },
         {
          "Accuracy": 0.9878524734578332,
          "Type": "training",
          "max_depth": 11,
          "n_estimator": 1
         },
         {
          "Accuracy": 0.9894538339559059,
          "Type": "training",
          "max_depth": 11,
          "n_estimator": 2
         },
         {
          "Accuracy": 0.9898262411571526,
          "Type": "training",
          "max_depth": 11,
          "n_estimator": 3
         },
         {
          "Accuracy": 0.9902834699707602,
          "Type": "training",
          "max_depth": 11,
          "n_estimator": 5
         },
         {
          "Accuracy": 0.9907101410673572,
          "Type": "training",
          "max_depth": 11,
          "n_estimator": 10
         },
         {
          "Accuracy": 0.9908714153268346,
          "Type": "training",
          "max_depth": 11,
          "n_estimator": 20
         },
         {
          "Accuracy": 0.9908785593555796,
          "Type": "training",
          "max_depth": 11,
          "n_estimator": 30
         },
         {
          "Accuracy": 0.9908271017086591,
          "Type": "training",
          "max_depth": 11,
          "n_estimator": 50
         },
         {
          "Accuracy": 0.9909217181559938,
          "Type": "training",
          "max_depth": 11,
          "n_estimator": 100
         },
         {
          "Accuracy": 0.9911206236319722,
          "Type": "training",
          "max_depth": 12,
          "n_estimator": 1
         },
         {
          "Accuracy": 0.992327123788095,
          "Type": "training",
          "max_depth": 12,
          "n_estimator": 2
         },
         {
          "Accuracy": 0.9929072907224403,
          "Type": "training",
          "max_depth": 12,
          "n_estimator": 3
         },
         {
          "Accuracy": 0.9932324041793832,
          "Type": "training",
          "max_depth": 12,
          "n_estimator": 5
         },
         {
          "Accuracy": 0.9936412482211772,
          "Type": "training",
          "max_depth": 12,
          "n_estimator": 10
         },
         {
          "Accuracy": 0.9937733146773824,
          "Type": "training",
          "max_depth": 12,
          "n_estimator": 20
         },
         {
          "Accuracy": 0.9937920889221818,
          "Type": "training",
          "max_depth": 12,
          "n_estimator": 30
         },
         {
          "Accuracy": 0.9937787578531184,
          "Type": "training",
          "max_depth": 12,
          "n_estimator": 50
         },
         {
          "Accuracy": 0.9938258150202602,
          "Type": "training",
          "max_depth": 12,
          "n_estimator": 100
         },
         {
          "Accuracy": 0.9932512124501707,
          "Type": "training",
          "max_depth": 13,
          "n_estimator": 1
         },
         {
          "Accuracy": 0.9946140406262778,
          "Type": "training",
          "max_depth": 13,
          "n_estimator": 2
         },
         {
          "Accuracy": 0.9950321475272419,
          "Type": "training",
          "max_depth": 13,
          "n_estimator": 3
         },
         {
          "Accuracy": 0.9953332872480369,
          "Type": "training",
          "max_depth": 13,
          "n_estimator": 5
         },
         {
          "Accuracy": 0.995699385797405,
          "Type": "training",
          "max_depth": 13,
          "n_estimator": 10
         },
         {
          "Accuracy": 0.9957555312877202,
          "Type": "training",
          "max_depth": 13,
          "n_estimator": 20
         },
         {
          "Accuracy": 0.9957724354665346,
          "Type": "training",
          "max_depth": 13,
          "n_estimator": 30
         },
         {
          "Accuracy": 0.9958063782264659,
          "Type": "training",
          "max_depth": 13,
          "n_estimator": 50
         },
         {
          "Accuracy": 0.9958190413602356,
          "Type": "training",
          "max_depth": 13,
          "n_estimator": 100
         },
         {
          "Accuracy": 0.9946648815151946,
          "Type": "training",
          "max_depth": 14,
          "n_estimator": 1
         },
         {
          "Accuracy": 0.9960712034698693,
          "Type": "training",
          "max_depth": 14,
          "n_estimator": 2
         },
         {
          "Accuracy": 0.996362002083408,
          "Type": "training",
          "max_depth": 14,
          "n_estimator": 3
         },
         {
          "Accuracy": 0.9965984053854412,
          "Type": "training",
          "max_depth": 14,
          "n_estimator": 5
         },
         {
          "Accuracy": 0.9969923847429212,
          "Type": "training",
          "max_depth": 14,
          "n_estimator": 10
         },
         {
          "Accuracy": 0.9970460577396282,
          "Type": "training",
          "max_depth": 14,
          "n_estimator": 20
         },
         {
          "Accuracy": 0.9970660447499081,
          "Type": "training",
          "max_depth": 14,
          "n_estimator": 30
         },
         {
          "Accuracy": 0.9971046882737427,
          "Type": "training",
          "max_depth": 14,
          "n_estimator": 50
         },
         {
          "Accuracy": 0.9971307283454582,
          "Type": "training",
          "max_depth": 14,
          "n_estimator": 100
         },
         {
          "Accuracy": 0.9958024443517534,
          "Type": "training",
          "max_depth": 15,
          "n_estimator": 1
         },
         {
          "Accuracy": 0.9970313495221056,
          "Type": "training",
          "max_depth": 15,
          "n_estimator": 2
         },
         {
          "Accuracy": 0.9973715825783837,
          "Type": "training",
          "max_depth": 15,
          "n_estimator": 3
         },
         {
          "Accuracy": 0.997576948962067,
          "Type": "training",
          "max_depth": 15,
          "n_estimator": 5
         },
         {
          "Accuracy": 0.9979264201500953,
          "Type": "training",
          "max_depth": 15,
          "n_estimator": 10
         },
         {
          "Accuracy": 0.9980128314330403,
          "Type": "training",
          "max_depth": 15,
          "n_estimator": 20
         },
         {
          "Accuracy": 0.9980437965730887,
          "Type": "training",
          "max_depth": 15,
          "n_estimator": 30
         },
         {
          "Accuracy": 0.9980907424355752,
          "Type": "training",
          "max_depth": 15,
          "n_estimator": 50
         },
         {
          "Accuracy": 0.9981127818795544,
          "Type": "training",
          "max_depth": 15,
          "n_estimator": 100
         },
         {
          "Accuracy": 0.9963679222036694,
          "Type": "training",
          "max_depth": 16,
          "n_estimator": 1
         },
         {
          "Accuracy": 0.9976468729724214,
          "Type": "training",
          "max_depth": 16,
          "n_estimator": 2
         },
         {
          "Accuracy": 0.9979572642016377,
          "Type": "training",
          "max_depth": 16,
          "n_estimator": 3
         },
         {
          "Accuracy": 0.9981725706846697,
          "Type": "training",
          "max_depth": 16,
          "n_estimator": 5
         },
         {
          "Accuracy": 0.9984916089888697,
          "Type": "training",
          "max_depth": 16,
          "n_estimator": 10
         },
         {
          "Accuracy": 0.9985874946822271,
          "Type": "training",
          "max_depth": 16,
          "n_estimator": 20
         },
         {
          "Accuracy": 0.9986154859709553,
          "Type": "training",
          "max_depth": 16,
          "n_estimator": 30
         },
         {
          "Accuracy": 0.998653827288192,
          "Type": "training",
          "max_depth": 16,
          "n_estimator": 50
         },
         {
          "Accuracy": 0.9986775288024101,
          "Type": "training",
          "max_depth": 16,
          "n_estimator": 100
         },
         {
          "Accuracy": 0.9970486125973995,
          "Type": "training",
          "max_depth": 17,
          "n_estimator": 1
         },
         {
          "Accuracy": 0.9981710806530112,
          "Type": "training",
          "max_depth": 17,
          "n_estimator": 2
         },
         {
          "Accuracy": 0.9984532322928669,
          "Type": "training",
          "max_depth": 17,
          "n_estimator": 3
         },
         {
          "Accuracy": 0.9986092172330218,
          "Type": "training",
          "max_depth": 17,
          "n_estimator": 5
         },
         {
          "Accuracy": 0.9988574496845309,
          "Type": "training",
          "max_depth": 17,
          "n_estimator": 10
         },
         {
          "Accuracy": 0.9989542540898632,
          "Type": "training",
          "max_depth": 17,
          "n_estimator": 20
         },
         {
          "Accuracy": 0.9989827462661268,
          "Type": "training",
          "max_depth": 17,
          "n_estimator": 30
         },
         {
          "Accuracy": 0.999022905774034,
          "Type": "training",
          "max_depth": 17,
          "n_estimator": 50
         },
         {
          "Accuracy": 0.9990524138738122,
          "Type": "training",
          "max_depth": 17,
          "n_estimator": 100
         },
         {
          "Accuracy": 0.7033717688312667,
          "Type": "testing",
          "max_depth": 7,
          "n_estimator": 1
         },
         {
          "Accuracy": 0.7730583506473842,
          "Type": "testing",
          "max_depth": 7,
          "n_estimator": 2
         },
         {
          "Accuracy": 0.7818267072962374,
          "Type": "testing",
          "max_depth": 7,
          "n_estimator": 3
         },
         {
          "Accuracy": 0.777421708104634,
          "Type": "testing",
          "max_depth": 7,
          "n_estimator": 5
         },
         {
          "Accuracy": 0.7777493243559651,
          "Type": "testing",
          "max_depth": 7,
          "n_estimator": 10
         },
         {
          "Accuracy": 0.7790529112260508,
          "Type": "testing",
          "max_depth": 7,
          "n_estimator": 20
         },
         {
          "Accuracy": 0.7759242899117651,
          "Type": "testing",
          "max_depth": 7,
          "n_estimator": 30
         },
         {
          "Accuracy": 0.7718429483986851,
          "Type": "testing",
          "max_depth": 7,
          "n_estimator": 50
         },
         {
          "Accuracy": 0.7727318025371203,
          "Type": "testing",
          "max_depth": 7,
          "n_estimator": 100
         },
         {
          "Accuracy": 0.7013990463418052,
          "Type": "testing",
          "max_depth": 8,
          "n_estimator": 1
         },
         {
          "Accuracy": 0.7755043493686188,
          "Type": "testing",
          "max_depth": 8,
          "n_estimator": 2
         },
         {
          "Accuracy": 0.787037593823456,
          "Type": "testing",
          "max_depth": 8,
          "n_estimator": 3
         },
         {
          "Accuracy": 0.7828984797327252,
          "Type": "testing",
          "max_depth": 8,
          "n_estimator": 5
         },
         {
          "Accuracy": 0.7844644594453694,
          "Type": "testing",
          "max_depth": 8,
          "n_estimator": 10
         },
         {
          "Accuracy": 0.7878247457123333,
          "Type": "testing",
          "max_depth": 8,
          "n_estimator": 20
         },
         {
          "Accuracy": 0.7844736036900116,
          "Type": "testing",
          "max_depth": 8,
          "n_estimator": 30
         },
         {
          "Accuracy": 0.7807396644888885,
          "Type": "testing",
          "max_depth": 8,
          "n_estimator": 50
         },
         {
          "Accuracy": 0.7816463417485028,
          "Type": "testing",
          "max_depth": 8,
          "n_estimator": 100
         },
         {
          "Accuracy": 0.7100279018377226,
          "Type": "testing",
          "max_depth": 9,
          "n_estimator": 1
         },
         {
          "Accuracy": 0.7802742964737668,
          "Type": "testing",
          "max_depth": 9,
          "n_estimator": 2
         },
         {
          "Accuracy": 0.7921250664185538,
          "Type": "testing",
          "max_depth": 9,
          "n_estimator": 3
         },
         {
          "Accuracy": 0.788851991010086,
          "Type": "testing",
          "max_depth": 9,
          "n_estimator": 5
         },
         {
          "Accuracy": 0.7908597621523051,
          "Type": "testing",
          "max_depth": 9,
          "n_estimator": 10
         },
         {
          "Accuracy": 0.7941762881290124,
          "Type": "testing",
          "max_depth": 9,
          "n_estimator": 20
         },
         {
          "Accuracy": 0.790163033798989,
          "Type": "testing",
          "max_depth": 9,
          "n_estimator": 30
         },
         {
          "Accuracy": 0.7863749816905561,
          "Type": "testing",
          "max_depth": 9,
          "n_estimator": 50
         },
         {
          "Accuracy": 0.7862009402958485,
          "Type": "testing",
          "max_depth": 9,
          "n_estimator": 100
         },
         {
          "Accuracy": 0.713241363935457,
          "Type": "testing",
          "max_depth": 10,
          "n_estimator": 1
         },
         {
          "Accuracy": 0.7869068214019226,
          "Type": "testing",
          "max_depth": 10,
          "n_estimator": 2
         },
         {
          "Accuracy": 0.7994533826923433,
          "Type": "testing",
          "max_depth": 10,
          "n_estimator": 3
         },
         {
          "Accuracy": 0.793930287927069,
          "Type": "testing",
          "max_depth": 10,
          "n_estimator": 5
         },
         {
          "Accuracy": 0.7941522804051669,
          "Type": "testing",
          "max_depth": 10,
          "n_estimator": 10
         },
         {
          "Accuracy": 0.7982782181817567,
          "Type": "testing",
          "max_depth": 10,
          "n_estimator": 20
         },
         {
          "Accuracy": 0.7944174766527557,
          "Type": "testing",
          "max_depth": 10,
          "n_estimator": 30
         },
         {
          "Accuracy": 0.7895421575527829,
          "Type": "testing",
          "max_depth": 10,
          "n_estimator": 50
         },
         {
          "Accuracy": 0.7903321227571191,
          "Type": "testing",
          "max_depth": 10,
          "n_estimator": 100
         },
         {
          "Accuracy": 0.7131566425081205,
          "Type": "testing",
          "max_depth": 11,
          "n_estimator": 1
         },
         {
          "Accuracy": 0.7834661582298519,
          "Type": "testing",
          "max_depth": 11,
          "n_estimator": 2
         },
         {
          "Accuracy": 0.79484321286169,
          "Type": "testing",
          "max_depth": 11,
          "n_estimator": 3
         },
         {
          "Accuracy": 0.7926156156328785,
          "Type": "testing",
          "max_depth": 11,
          "n_estimator": 5
         },
         {
          "Accuracy": 0.7936740023146295,
          "Type": "testing",
          "max_depth": 11,
          "n_estimator": 10
         },
         {
          "Accuracy": 0.7983166708906501,
          "Type": "testing",
          "max_depth": 11,
          "n_estimator": 20
         },
         {
          "Accuracy": 0.7945752499268253,
          "Type": "testing",
          "max_depth": 11,
          "n_estimator": 30
         },
         {
          "Accuracy": 0.7905005121489166,
          "Type": "testing",
          "max_depth": 11,
          "n_estimator": 50
         },
         {
          "Accuracy": 0.790696658074475,
          "Type": "testing",
          "max_depth": 11,
          "n_estimator": 100
         },
         {
          "Accuracy": 0.7141903540377191,
          "Type": "testing",
          "max_depth": 12,
          "n_estimator": 1
         },
         {
          "Accuracy": 0.7832518985049117,
          "Type": "testing",
          "max_depth": 12,
          "n_estimator": 2
         },
         {
          "Accuracy": 0.7949573462908065,
          "Type": "testing",
          "max_depth": 12,
          "n_estimator": 3
         },
         {
          "Accuracy": 0.7910149470771106,
          "Type": "testing",
          "max_depth": 12,
          "n_estimator": 5
         },
         {
          "Accuracy": 0.7929799771819982,
          "Type": "testing",
          "max_depth": 12,
          "n_estimator": 10
         },
         {
          "Accuracy": 0.7973505697570049,
          "Type": "testing",
          "max_depth": 12,
          "n_estimator": 20
         },
         {
          "Accuracy": 0.7934049375014568,
          "Type": "testing",
          "max_depth": 12,
          "n_estimator": 30
         },
         {
          "Accuracy": 0.788848111114946,
          "Type": "testing",
          "max_depth": 12,
          "n_estimator": 50
         },
         {
          "Accuracy": 0.7889458770382368,
          "Type": "testing",
          "max_depth": 12,
          "n_estimator": 100
         },
         {
          "Accuracy": 0.7086659688383041,
          "Type": "testing",
          "max_depth": 13,
          "n_estimator": 1
         },
         {
          "Accuracy": 0.7812762038732785,
          "Type": "testing",
          "max_depth": 13,
          "n_estimator": 2
         },
         {
          "Accuracy": 0.7929498494115603,
          "Type": "testing",
          "max_depth": 13,
          "n_estimator": 3
         },
         {
          "Accuracy": 0.7897232015444842,
          "Type": "testing",
          "max_depth": 13,
          "n_estimator": 5
         },
         {
          "Accuracy": 0.7911486489511599,
          "Type": "testing",
          "max_depth": 13,
          "n_estimator": 10
         },
         {
          "Accuracy": 0.7947314105656494,
          "Type": "testing",
          "max_depth": 13,
          "n_estimator": 20
         },
         {
          "Accuracy": 0.7918799561072563,
          "Type": "testing",
          "max_depth": 13,
          "n_estimator": 30
         },
         {
          "Accuracy": 0.7875488565996697,
          "Type": "testing",
          "max_depth": 13,
          "n_estimator": 50
         },
         {
          "Accuracy": 0.7877851701671204,
          "Type": "testing",
          "max_depth": 13,
          "n_estimator": 100
         },
         {
          "Accuracy": 0.7130923023092788,
          "Type": "testing",
          "max_depth": 14,
          "n_estimator": 1
         },
         {
          "Accuracy": 0.7838897629217109,
          "Type": "testing",
          "max_depth": 14,
          "n_estimator": 2
         },
         {
          "Accuracy": 0.7955948389083354,
          "Type": "testing",
          "max_depth": 14,
          "n_estimator": 3
         },
         {
          "Accuracy": 0.7904028277040439,
          "Type": "testing",
          "max_depth": 14,
          "n_estimator": 5
         },
         {
          "Accuracy": 0.7916440583434227,
          "Type": "testing",
          "max_depth": 14,
          "n_estimator": 10
         },
         {
          "Accuracy": 0.7952407990593237,
          "Type": "testing",
          "max_depth": 14,
          "n_estimator": 20
         },
         {
          "Accuracy": 0.7915896250669788,
          "Type": "testing",
          "max_depth": 14,
          "n_estimator": 30
         },
         {
          "Accuracy": 0.7868824958963296,
          "Type": "testing",
          "max_depth": 14,
          "n_estimator": 50
         },
         {
          "Accuracy": 0.7866262132063124,
          "Type": "testing",
          "max_depth": 14,
          "n_estimator": 100
         },
         {
          "Accuracy": 0.7097393047030578,
          "Type": "testing",
          "max_depth": 15,
          "n_estimator": 1
         },
         {
          "Accuracy": 0.7809737146608939,
          "Type": "testing",
          "max_depth": 15,
          "n_estimator": 2
         },
         {
          "Accuracy": 0.7929546068295112,
          "Type": "testing",
          "max_depth": 15,
          "n_estimator": 3
         },
         {
          "Accuracy": 0.7890296291052286,
          "Type": "testing",
          "max_depth": 15,
          "n_estimator": 5
         },
         {
          "Accuracy": 0.7902815381070769,
          "Type": "testing",
          "max_depth": 15,
          "n_estimator": 10
         },
         {
          "Accuracy": 0.7931626114283232,
          "Type": "testing",
          "max_depth": 15,
          "n_estimator": 20
         },
         {
          "Accuracy": 0.7900327213012589,
          "Type": "testing",
          "max_depth": 15,
          "n_estimator": 30
         },
         {
          "Accuracy": 0.7858753357685262,
          "Type": "testing",
          "max_depth": 15,
          "n_estimator": 50
         },
         {
          "Accuracy": 0.7863526115670908,
          "Type": "testing",
          "max_depth": 15,
          "n_estimator": 100
         },
         {
          "Accuracy": 0.7089631744231116,
          "Type": "testing",
          "max_depth": 16,
          "n_estimator": 1
         },
         {
          "Accuracy": 0.7802591731470783,
          "Type": "testing",
          "max_depth": 16,
          "n_estimator": 2
         },
         {
          "Accuracy": 0.7916445777858067,
          "Type": "testing",
          "max_depth": 16,
          "n_estimator": 3
         },
         {
          "Accuracy": 0.7879625755233245,
          "Type": "testing",
          "max_depth": 16,
          "n_estimator": 5
         },
         {
          "Accuracy": 0.788884294051936,
          "Type": "testing",
          "max_depth": 16,
          "n_estimator": 10
         },
         {
          "Accuracy": 0.7935517840399089,
          "Type": "testing",
          "max_depth": 16,
          "n_estimator": 20
         },
         {
          "Accuracy": 0.790643195138076,
          "Type": "testing",
          "max_depth": 16,
          "n_estimator": 30
         },
         {
          "Accuracy": 0.7859806506898281,
          "Type": "testing",
          "max_depth": 16,
          "n_estimator": 50
         },
         {
          "Accuracy": 0.7860227884800793,
          "Type": "testing",
          "max_depth": 16,
          "n_estimator": 100
         },
         {
          "Accuracy": 0.7071773731397815,
          "Type": "testing",
          "max_depth": 17,
          "n_estimator": 1
         },
         {
          "Accuracy": 0.7804291257700451,
          "Type": "testing",
          "max_depth": 17,
          "n_estimator": 2
         },
         {
          "Accuracy": 0.7928520855886264,
          "Type": "testing",
          "max_depth": 17,
          "n_estimator": 3
         },
         {
          "Accuracy": 0.7887567338594654,
          "Type": "testing",
          "max_depth": 17,
          "n_estimator": 5
         },
         {
          "Accuracy": 0.7893921982290367,
          "Type": "testing",
          "max_depth": 17,
          "n_estimator": 10
         },
         {
          "Accuracy": 0.7926618539970434,
          "Type": "testing",
          "max_depth": 17,
          "n_estimator": 20
         },
         {
          "Accuracy": 0.7900222303145221,
          "Type": "testing",
          "max_depth": 17,
          "n_estimator": 30
         },
         {
          "Accuracy": 0.7849728736271537,
          "Type": "testing",
          "max_depth": 17,
          "n_estimator": 50
         },
         {
          "Accuracy": 0.7850007473468075,
          "Type": "testing",
          "max_depth": 17,
          "n_estimator": 100
         }
        ]
       },
       "encoding": {
        "color": {
         "field": "Type",
         "type": "nominal"
        },
        "facet": {
         "field": "n_estimator",
         "type": "quantitative"
        },
        "x": {
         "field": "max_depth",
         "type": "quantitative"
        },
        "y": {
         "field": "Accuracy",
         "scale": {
          "domain": [
           0.7,
           1
          ]
         },
         "type": "quantitative"
        }
       },
       "height": 200,
       "mark": "line",
       "width": 200
      },
      "image/png": "[encoded data removed]",
      "text/plain": [
       "<VegaLite 3 object>\n",
       "\n",
       "If you see this message, it means the renderer has not been properly enabled\n",
       "for the frontend that you are using. For more information, see\n",
       "https://altair-viz.github.io/user_guide/troubleshooting.html\n"
      ]
     },
     "execution_count": 22,
     "metadata": {},
     "output_type": "execute_result"
    }
   ],
   "source": [
    "alt.Chart(df_rf).mark_line().encode(\n",
    "    alt.X('max_depth'),\n",
    "    alt.Y('Accuracy', scale=alt.Scale(domain=[0.7, 1])),\n",
    "    alt.Color('Type'),\n",
    "    alt.Facet('n_estimator')\n",
    "    ).properties(width = 200, height = 200, columns = 3)"
   ]
  },
  {
   "cell_type": "markdown",
   "metadata": {},
   "source": [
    "## SVR"
   ]
  },
  {
   "cell_type": "markdown",
   "metadata": {},
   "source": [
    "kernel=\"rbf\", C=100, gamma=0.1, epsilon=0.1\n",
    "\n",
    "https://scikit-learn.org/stable/auto_examples/svm/plot_svm_regression.html"
   ]
  },
  {
   "cell_type": "code",
   "execution_count": 17,
   "metadata": {},
   "outputs": [
    {
     "name": "stdout",
     "output_type": "stream",
     "text": [
      "The 4 matrices are of sizes:  (26460, 3) (35280, 3) (26460,) (35280,)\n",
      "The training accuracy for the model is  0.11639332452234175\n",
      "The testing accuracy for the model is  0.031202160899373887\n"
     ]
    }
   ],
   "source": [
    "def svr_rbf(df):\n",
    "    X_train, X_test, y_train, y_test = test_train_compound(df)\n",
    "    print(\"The 4 matrices are of sizes: \", X_train.shape, X_test.shape, y_train.shape, y_test.shape)\n",
    "    svr_rbf = SVR(kernel=\"rbf\").fit(X_train, y_train)\n",
    "    \n",
    "    df_pred = df.copy()\n",
    "    df_pred['predicted_wt'] = svr_rbf.predict(df[[\"wave\", \"temp\", \"time\"]])\n",
    "    df_pred.to_csv('../output/scenario3/prediction_svr_rbf.csv')\n",
    "    \n",
    "    print(\"The training accuracy for the model is \", svr_rbf.score(X_train, y_train))\n",
    "    print(\"The testing accuracy for the model is \", svr_rbf.score(X_test, y_test))\n",
    "    \n",
    "    return pd.DataFrame({'Model': 'SVR RBF Kernel',\n",
    "                           'Train Accuracy': svr_rbf.score(X_train, y_train),\n",
    "                           'Test Accuracy' : svr_rbf.score(X_test, y_test)}, index=[None])\n",
    "\n",
    "df_results = df_results.append(svr_rbf(df))"
   ]
  },
  {
   "cell_type": "markdown",
   "metadata": {},
   "source": [
    "## GBR"
   ]
  },
  {
   "cell_type": "code",
   "execution_count": 18,
   "metadata": {},
   "outputs": [
    {
     "name": "stdout",
     "output_type": "stream",
     "text": [
      "The 4 matrices are of sizes:  (26460, 3) (35280, 3) (26460,) (35280,)\n",
      "The training accuracy for the model is  0.9715430704257842\n",
      "The testing accuracy for the model is  0.7732256860475033\n"
     ]
    }
   ],
   "source": [
    "def gbr(df):\n",
    "    X_train, X_test, y_train, y_test = test_train_compound(df)\n",
    "    print(\"The 4 matrices are of sizes: \", X_train.shape, X_test.shape, y_train.shape, y_test.shape)\n",
    "    gbr = GradientBoostingRegressor().fit(X_train,y_train)\n",
    "    \n",
    "    df_pred = df.copy()\n",
    "    df_pred['predicted_wt'] = gbr.predict(df[[\"wave\", \"temp\", \"time\"]])\n",
    "    df_pred.to_csv('../output/scenario3/prediction_gbr.csv')\n",
    "    \n",
    "    print(\"The training accuracy for the model is \", gbr.score(X_train, y_train))\n",
    "    print(\"The testing accuracy for the model is \", gbr.score(X_test, y_test))\n",
    "    \n",
    "    return pd.DataFrame({'Model': 'Gradient Boost Regressor',\n",
    "                           'Train Accuracy': gbr.score(X_train, y_train),\n",
    "                           'Test Accuracy' : gbr.score(X_test, y_test)}, index=[None])\n",
    "\n",
    "df_results = df_results.append(gbr(df))"
   ]
  },
  {
   "cell_type": "code",
   "execution_count": 19,
   "metadata": {},
   "outputs": [
    {
     "data": {
      "text/html": [
       "<div>\n",
       "<style scoped>\n",
       "    .dataframe tbody tr th:only-of-type {\n",
       "        vertical-align: middle;\n",
       "    }\n",
       "\n",
       "    .dataframe tbody tr th {\n",
       "        vertical-align: top;\n",
       "    }\n",
       "\n",
       "    .dataframe thead th {\n",
       "        text-align: right;\n",
       "    }\n",
       "</style>\n",
       "<table border=\"1\" class=\"dataframe\">\n",
       "  <thead>\n",
       "    <tr style=\"text-align: right;\">\n",
       "      <th></th>\n",
       "      <th>Model</th>\n",
       "      <th>Compound</th>\n",
       "      <th>Train Accuracy</th>\n",
       "      <th>Test Accuracy</th>\n",
       "    </tr>\n",
       "  </thead>\n",
       "  <tbody>\n",
       "    <tr>\n",
       "      <th>NaN</th>\n",
       "      <td>Linear Regression</td>\n",
       "      <td>NaN</td>\n",
       "      <td>0.120013</td>\n",
       "      <td>0.045340</td>\n",
       "    </tr>\n",
       "    <tr>\n",
       "      <th>NaN</th>\n",
       "      <td>Partial Least Squares (n=2)</td>\n",
       "      <td>NaN</td>\n",
       "      <td>0.119914</td>\n",
       "      <td>0.048628</td>\n",
       "    </tr>\n",
       "    <tr>\n",
       "      <th>NaN</th>\n",
       "      <td>Partial Least Squares (n=3)</td>\n",
       "      <td>NaN</td>\n",
       "      <td>0.120013</td>\n",
       "      <td>0.045340</td>\n",
       "    </tr>\n",
       "    <tr>\n",
       "      <th>NaN</th>\n",
       "      <td>Random Forest Regression (max_depth = 2)</td>\n",
       "      <td>NaN</td>\n",
       "      <td>0.169503</td>\n",
       "      <td>0.084470</td>\n",
       "    </tr>\n",
       "    <tr>\n",
       "      <th>NaN</th>\n",
       "      <td>Random Forest Regression (max_depth = 5)</td>\n",
       "      <td>NaN</td>\n",
       "      <td>0.867870</td>\n",
       "      <td>0.697103</td>\n",
       "    </tr>\n",
       "    <tr>\n",
       "      <th>NaN</th>\n",
       "      <td>Random Forest Regression (max_depth = 7)</td>\n",
       "      <td>NaN</td>\n",
       "      <td>0.950410</td>\n",
       "      <td>0.772732</td>\n",
       "    </tr>\n",
       "    <tr>\n",
       "      <th>NaN</th>\n",
       "      <td>Random Forest Regression (max_depth = 10)</td>\n",
       "      <td>NaN</td>\n",
       "      <td>0.986756</td>\n",
       "      <td>0.790332</td>\n",
       "    </tr>\n",
       "    <tr>\n",
       "      <th>NaN</th>\n",
       "      <td>Random Forest Regression (max_depth = 15)</td>\n",
       "      <td>NaN</td>\n",
       "      <td>0.998113</td>\n",
       "      <td>0.786353</td>\n",
       "    </tr>\n",
       "    <tr>\n",
       "      <th>NaN</th>\n",
       "      <td>SVR RBF Kernel</td>\n",
       "      <td>NaN</td>\n",
       "      <td>0.116393</td>\n",
       "      <td>0.031202</td>\n",
       "    </tr>\n",
       "    <tr>\n",
       "      <th>NaN</th>\n",
       "      <td>Gradient Boost Regressor</td>\n",
       "      <td>NaN</td>\n",
       "      <td>0.971543</td>\n",
       "      <td>0.773226</td>\n",
       "    </tr>\n",
       "  </tbody>\n",
       "</table>\n",
       "</div>"
      ],
      "text/plain": [
       "                                         Model  Compound  Train Accuracy  \\\n",
       "NaN                          Linear Regression       NaN        0.120013   \n",
       "NaN                Partial Least Squares (n=2)       NaN        0.119914   \n",
       "NaN                Partial Least Squares (n=3)       NaN        0.120013   \n",
       "NaN   Random Forest Regression (max_depth = 2)       NaN        0.169503   \n",
       "NaN   Random Forest Regression (max_depth = 5)       NaN        0.867870   \n",
       "NaN   Random Forest Regression (max_depth = 7)       NaN        0.950410   \n",
       "NaN  Random Forest Regression (max_depth = 10)       NaN        0.986756   \n",
       "NaN  Random Forest Regression (max_depth = 15)       NaN        0.998113   \n",
       "NaN                             SVR RBF Kernel       NaN        0.116393   \n",
       "NaN                   Gradient Boost Regressor       NaN        0.971543   \n",
       "\n",
       "     Test Accuracy  \n",
       "NaN       0.045340  \n",
       "NaN       0.048628  \n",
       "NaN       0.045340  \n",
       "NaN       0.084470  \n",
       "NaN       0.697103  \n",
       "NaN       0.772732  \n",
       "NaN       0.790332  \n",
       "NaN       0.786353  \n",
       "NaN       0.031202  \n",
       "NaN       0.773226  "
      ]
     },
     "execution_count": 19,
     "metadata": {},
     "output_type": "execute_result"
    }
   ],
   "source": [
    "df_results"
   ]
  },
  {
   "cell_type": "code",
   "execution_count": 20,
   "metadata": {},
   "outputs": [],
   "source": [
    "# n_est = [1,2,3,5,10,20,30,50,100]\n",
    "# max_depth = range(1,8)\n",
    "# X_train, X_test, y_train, y_test = test_train_compound(df)\n",
    "# trees = []\n",
    "# train_acc = []\n",
    "# test_acc = []\n",
    "# depth = []\n",
    "# for j in max_depth:\n",
    "#     for i in n_est:\n",
    "#         trees.append(i)\n",
    "#         depth.append(j)\n",
    "#         gbr = GradientBoostingRegressor(n_estimators = i, max_depth = j, random_state=0).fit(X_train, y_train)\n",
    "#         train_acc.append(gbr.score(X_train, y_train))\n",
    "#         test_acc.append(gbr.score(X_test, y_test))\n",
    "#         print(j,i)\n",
    "# df_gbr = pd.DataFrame({'training' : train_acc,\n",
    "#                       'testing' : test_acc,\n",
    "#                       'n_estimator' : trees,\n",
    "#                       'max_depth' : depth})\n",
    "# df_gbr = df_gbr.melt(id_vars = ['n_estimator', 'max_depth'], var_name = 'Type', value_name = 'Accuracy')\n",
    "# df_gbr\n",
    "# alt.Chart(df_gbr).mark_line().encode(\n",
    "#     alt.X('n_estimator'),\n",
    "#     alt.Y('Accuracy', scale=alt.Scale(domain=[0, 1])),\n",
    "#     alt.Color('Type'),\n",
    "#     alt.Facet('max_depth')\n",
    "#     ).properties(width = 200, height = 200, columns = 3)"
   ]
  },
  {
   "cell_type": "code",
   "execution_count": null,
   "metadata": {},
   "outputs": [],
   "source": []
  },
  {
   "cell_type": "markdown",
   "metadata": {},
   "source": [
    "## Write results to file"
   ]
  },
  {
   "cell_type": "code",
   "execution_count": 21,
   "metadata": {},
   "outputs": [],
   "source": [
    "df_results.to_csv('../output/scenario3/results_table.csv')"
   ]
  },
  {
   "cell_type": "code",
   "execution_count": null,
   "metadata": {},
   "outputs": [],
   "source": []
  }
 ],
 "metadata": {
  "kernelspec": {
   "display_name": "Python 3",
   "language": "python",
   "name": "python3"
  },
  "language_info": {
   "codemirror_mode": {
    "name": "ipython",
    "version": 3
   },
   "file_extension": ".py",
   "mimetype": "text/x-python",
   "name": "python",
   "nbconvert_exporter": "python",
   "pygments_lexer": "ipython3",
   "version": "3.7.6"
  }
 },
 "nbformat": 4,
 "nbformat_minor": 4
}
