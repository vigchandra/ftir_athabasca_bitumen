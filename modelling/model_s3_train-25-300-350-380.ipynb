{
 "cells": [
  {
   "cell_type": "code",
   "execution_count": 33,
   "metadata": {},
   "outputs": [
    {
     "data": {
      "text/plain": [
       "DataTransformerRegistry.enable('default')"
      ]
     },
     "execution_count": 33,
     "metadata": {},
     "output_type": "execute_result"
    }
   ],
   "source": [
    "import pandas as pd\n",
    "from sklearn.model_selection import train_test_split\n",
    "from sklearn.linear_model import LinearRegression\n",
    "from sklearn.ensemble import RandomForestRegressor\n",
    "from sklearn.svm import SVR\n",
    "from sklearn import tree\n",
    "from sklearn.tree import export_graphviz\n",
    "import altair as alt\n",
    "from dtreeviz.trees import dtreeviz # will be used for tree visualization\n",
    "from matplotlib import pyplot as plt\n",
    "from sklearn.cross_decomposition import PLSRegression\n",
    "from sklearn.ensemble import GradientBoostingRegressor\n",
    "alt.data_transformers.disable_max_rows()"
   ]
  },
  {
   "cell_type": "markdown",
   "metadata": {},
   "source": [
    "## File Import"
   ]
  },
  {
   "cell_type": "code",
   "execution_count": 34,
   "metadata": {},
   "outputs": [
    {
     "data": {
      "text/html": [
       "<div>\n",
       "<style scoped>\n",
       "    .dataframe tbody tr th:only-of-type {\n",
       "        vertical-align: middle;\n",
       "    }\n",
       "\n",
       "    .dataframe tbody tr th {\n",
       "        vertical-align: top;\n",
       "    }\n",
       "\n",
       "    .dataframe thead th {\n",
       "        text-align: right;\n",
       "    }\n",
       "</style>\n",
       "<table border=\"1\" class=\"dataframe\">\n",
       "  <thead>\n",
       "    <tr style=\"text-align: right;\">\n",
       "      <th></th>\n",
       "      <th>wave</th>\n",
       "      <th>temp</th>\n",
       "      <th>time</th>\n",
       "      <th>intensity</th>\n",
       "    </tr>\n",
       "  </thead>\n",
       "  <tbody>\n",
       "    <tr>\n",
       "      <th>0</th>\n",
       "      <td>599.8177</td>\n",
       "      <td>25</td>\n",
       "      <td>0</td>\n",
       "      <td>92.4064</td>\n",
       "    </tr>\n",
       "    <tr>\n",
       "      <th>1</th>\n",
       "      <td>601.7464</td>\n",
       "      <td>25</td>\n",
       "      <td>0</td>\n",
       "      <td>93.1177</td>\n",
       "    </tr>\n",
       "    <tr>\n",
       "      <th>2</th>\n",
       "      <td>603.6751</td>\n",
       "      <td>25</td>\n",
       "      <td>0</td>\n",
       "      <td>93.3507</td>\n",
       "    </tr>\n",
       "    <tr>\n",
       "      <th>3</th>\n",
       "      <td>605.6037</td>\n",
       "      <td>25</td>\n",
       "      <td>0</td>\n",
       "      <td>93.2874</td>\n",
       "    </tr>\n",
       "    <tr>\n",
       "      <th>4</th>\n",
       "      <td>607.5324</td>\n",
       "      <td>25</td>\n",
       "      <td>0</td>\n",
       "      <td>93.8345</td>\n",
       "    </tr>\n",
       "    <tr>\n",
       "      <th>...</th>\n",
       "      <td>...</td>\n",
       "      <td>...</td>\n",
       "      <td>...</td>\n",
       "      <td>...</td>\n",
       "    </tr>\n",
       "    <tr>\n",
       "      <th>61735</th>\n",
       "      <td>3992.3559</td>\n",
       "      <td>420</td>\n",
       "      <td>660</td>\n",
       "      <td>99.9956</td>\n",
       "    </tr>\n",
       "    <tr>\n",
       "      <th>61736</th>\n",
       "      <td>3994.2846</td>\n",
       "      <td>420</td>\n",
       "      <td>660</td>\n",
       "      <td>99.8334</td>\n",
       "    </tr>\n",
       "    <tr>\n",
       "      <th>61737</th>\n",
       "      <td>3996.2132</td>\n",
       "      <td>420</td>\n",
       "      <td>660</td>\n",
       "      <td>99.8121</td>\n",
       "    </tr>\n",
       "    <tr>\n",
       "      <th>61738</th>\n",
       "      <td>3998.1419</td>\n",
       "      <td>420</td>\n",
       "      <td>660</td>\n",
       "      <td>99.8471</td>\n",
       "    </tr>\n",
       "    <tr>\n",
       "      <th>61739</th>\n",
       "      <td>4000.0706</td>\n",
       "      <td>420</td>\n",
       "      <td>660</td>\n",
       "      <td>99.8816</td>\n",
       "    </tr>\n",
       "  </tbody>\n",
       "</table>\n",
       "<p>61740 rows × 4 columns</p>\n",
       "</div>"
      ],
      "text/plain": [
       "            wave  temp  time  intensity\n",
       "0       599.8177    25     0    92.4064\n",
       "1       601.7464    25     0    93.1177\n",
       "2       603.6751    25     0    93.3507\n",
       "3       605.6037    25     0    93.2874\n",
       "4       607.5324    25     0    93.8345\n",
       "...          ...   ...   ...        ...\n",
       "61735  3992.3559   420   660    99.9956\n",
       "61736  3994.2846   420   660    99.8334\n",
       "61737  3996.2132   420   660    99.8121\n",
       "61738  3998.1419   420   660    99.8471\n",
       "61739  4000.0706   420   660    99.8816\n",
       "\n",
       "[61740 rows x 4 columns]"
      ]
     },
     "execution_count": 34,
     "metadata": {},
     "output_type": "execute_result"
    }
   ],
   "source": [
    "df = pd.read_csv(\"input/processed_input.csv\", index_col = None)\n",
    "#df = df.drop(columns = 'Unnamed: 0')\n",
    "df"
   ]
  },
  {
   "cell_type": "code",
   "execution_count": 35,
   "metadata": {},
   "outputs": [],
   "source": [
    "def test_train_compound(df):\n",
    "    \"\"\"\n",
    "    Function to split test/train data for each compound\n",
    "    \n",
    "    Argument:\n",
    "        df      : pandas dataframe\n",
    "        \n",
    "    Output:\n",
    "        X_train, X_test, y_train, y_test : 4 pandas dataframe which have the split data \n",
    "    \"\"\"\n",
    " \n",
    "    \n",
    "    X_train = df.query('temp in [25,300,350,380]')[[\"wave\", \"temp\", \"time\"]]\n",
    "    y_train = df.query('temp in [25,300,350,380]')[[\"intensity\"]].values.ravel()\n",
    "    \n",
    "    X_test = df.query('temp not in [25,300,350,380]')[[\"wave\", \"temp\", \"time\"]]\n",
    "    y_test = df.query('temp not in [25,300,350,380]')[[\"intensity\"]].values.ravel()\n",
    "    \n",
    "    return X_train, X_test, y_train, y_test"
   ]
  },
  {
   "cell_type": "code",
   "execution_count": 36,
   "metadata": {},
   "outputs": [
    {
     "data": {
      "text/html": [
       "<div>\n",
       "<style scoped>\n",
       "    .dataframe tbody tr th:only-of-type {\n",
       "        vertical-align: middle;\n",
       "    }\n",
       "\n",
       "    .dataframe tbody tr th {\n",
       "        vertical-align: top;\n",
       "    }\n",
       "\n",
       "    .dataframe thead th {\n",
       "        text-align: right;\n",
       "    }\n",
       "</style>\n",
       "<table border=\"1\" class=\"dataframe\">\n",
       "  <thead>\n",
       "    <tr style=\"text-align: right;\">\n",
       "      <th></th>\n",
       "      <th>Model</th>\n",
       "      <th>Compound</th>\n",
       "      <th>Train Accuracy</th>\n",
       "      <th>Test Accuracy</th>\n",
       "    </tr>\n",
       "  </thead>\n",
       "  <tbody>\n",
       "  </tbody>\n",
       "</table>\n",
       "</div>"
      ],
      "text/plain": [
       "Empty DataFrame\n",
       "Columns: [Model, Compound, Train Accuracy, Test Accuracy]\n",
       "Index: []"
      ]
     },
     "execution_count": 36,
     "metadata": {},
     "output_type": "execute_result"
    }
   ],
   "source": [
    "df_results = pd.DataFrame({'Model': [],\n",
    "                           'Compound' : [],\n",
    "                           'Train Accuracy': [],\n",
    "                           'Test Accuracy' : []\n",
    "                           })\n",
    "df_results"
   ]
  },
  {
   "cell_type": "code",
   "execution_count": 37,
   "metadata": {},
   "outputs": [
    {
     "data": {
      "text/html": [
       "<div>\n",
       "<style scoped>\n",
       "    .dataframe tbody tr th:only-of-type {\n",
       "        vertical-align: middle;\n",
       "    }\n",
       "\n",
       "    .dataframe tbody tr th {\n",
       "        vertical-align: top;\n",
       "    }\n",
       "\n",
       "    .dataframe thead th {\n",
       "        text-align: right;\n",
       "    }\n",
       "</style>\n",
       "<table border=\"1\" class=\"dataframe\">\n",
       "  <thead>\n",
       "    <tr style=\"text-align: right;\">\n",
       "      <th></th>\n",
       "      <th>Model</th>\n",
       "      <th>Compound</th>\n",
       "      <th>Train Accuracy</th>\n",
       "      <th>Test Accuracy</th>\n",
       "    </tr>\n",
       "  </thead>\n",
       "  <tbody>\n",
       "  </tbody>\n",
       "</table>\n",
       "</div>"
      ],
      "text/plain": [
       "Empty DataFrame\n",
       "Columns: [Model, Compound, Train Accuracy, Test Accuracy]\n",
       "Index: []"
      ]
     },
     "execution_count": 37,
     "metadata": {},
     "output_type": "execute_result"
    }
   ],
   "source": [
    "df_results"
   ]
  },
  {
   "cell_type": "markdown",
   "metadata": {},
   "source": [
    "## Summary"
   ]
  },
  {
   "cell_type": "markdown",
   "metadata": {},
   "source": [
    "## Linear Modelling"
   ]
  },
  {
   "cell_type": "code",
   "execution_count": 38,
   "metadata": {},
   "outputs": [
    {
     "name": "stdout",
     "output_type": "stream",
     "text": [
      "The 4 matrices are of sizes:  (40572, 3) (21168, 3) (40572,) (21168,)\n",
      "The training accuracy for the model is  0.12745063993406347\n",
      "The testing accuracy for the model is  0.016087496323981654\n"
     ]
    }
   ],
   "source": [
    "def linear_model(df):\n",
    "    X_train, X_test, y_train, y_test = test_train_compound(df)\n",
    "    print(\"The 4 matrices are of sizes: \", X_train.shape, X_test.shape, y_train.shape, y_test.shape)\n",
    "    lr = LinearRegression().fit(X_train, y_train)\n",
    "    \n",
    "    \n",
    "    df_pred = df.copy()\n",
    "    df_pred['predicted_intensity'] = lr.predict(df[[\"wave\", \"temp\", \"time\"]])\n",
    "    df_pred.to_csv('output/scenario3/prediction_lr.csv')\n",
    "    \n",
    "    \n",
    "    print(\"The training accuracy for the model is \", lr.score(X_train, y_train))\n",
    "    print(\"The testing accuracy for the model is \", lr.score(X_test, y_test))\n",
    "    return pd.DataFrame({'Model': 'Linear Regression',\n",
    "                           'Train Accuracy': lr.score(X_train, y_train),\n",
    "                           'Test Accuracy' : lr.score(X_test, y_test)}, index = [None])\n",
    "    \n",
    "df_results = df_results.append(linear_model(df))"
   ]
  },
  {
   "cell_type": "markdown",
   "metadata": {},
   "source": [
    "## PLSR"
   ]
  },
  {
   "cell_type": "code",
   "execution_count": 39,
   "metadata": {},
   "outputs": [
    {
     "name": "stdout",
     "output_type": "stream",
     "text": [
      "The 4 matrices are of sizes:  (40572, 3) (21168, 3) (40572,) (21168,)\n",
      "The training accuracy for the model is  0.12742770954705473\n",
      "The testing accuracy for the model is  0.015893767465232966\n"
     ]
    }
   ],
   "source": [
    "def pls2(df):\n",
    "    X_train, X_test, y_train, y_test = test_train_compound(df)\n",
    "    print(\"The 4 matrices are of sizes: \", X_train.shape, X_test.shape, y_train.shape, y_test.shape)\n",
    "    pls2 = PLSRegression(n_components=2).fit(X_train, y_train)\n",
    "    \n",
    "    \n",
    "    df_pred = df.copy()\n",
    "    df_pred['predicted_wt'] = pls2.predict(df[[\"wave\", \"temp\", \"time\"]])\n",
    "    df_pred.to_csv('output/scenario3/prediction_plsr2.csv')\n",
    "    \n",
    "    \n",
    "    print(\"The training accuracy for the model is \", pls2.score(X_train, y_train))\n",
    "    print(\"The testing accuracy for the model is \", pls2.score(X_test, y_test))\n",
    "    return pd.DataFrame({'Model': 'Partial Least Squares (n=2)',\n",
    "                           'Train Accuracy': pls2.score(X_train, y_train),\n",
    "                           'Test Accuracy' : pls2.score(X_test, y_test)}, index = [None])\n",
    "\n",
    "\n",
    "df_results = df_results.append(pls2(df))"
   ]
  },
  {
   "cell_type": "code",
   "execution_count": 40,
   "metadata": {},
   "outputs": [
    {
     "data": {
      "text/html": [
       "<div>\n",
       "<style scoped>\n",
       "    .dataframe tbody tr th:only-of-type {\n",
       "        vertical-align: middle;\n",
       "    }\n",
       "\n",
       "    .dataframe tbody tr th {\n",
       "        vertical-align: top;\n",
       "    }\n",
       "\n",
       "    .dataframe thead th {\n",
       "        text-align: right;\n",
       "    }\n",
       "</style>\n",
       "<table border=\"1\" class=\"dataframe\">\n",
       "  <thead>\n",
       "    <tr style=\"text-align: right;\">\n",
       "      <th></th>\n",
       "      <th>Model</th>\n",
       "      <th>Compound</th>\n",
       "      <th>Train Accuracy</th>\n",
       "      <th>Test Accuracy</th>\n",
       "    </tr>\n",
       "  </thead>\n",
       "  <tbody>\n",
       "    <tr>\n",
       "      <th>NaN</th>\n",
       "      <td>Linear Regression</td>\n",
       "      <td>NaN</td>\n",
       "      <td>0.127451</td>\n",
       "      <td>0.016087</td>\n",
       "    </tr>\n",
       "    <tr>\n",
       "      <th>NaN</th>\n",
       "      <td>Partial Least Squares (n=2)</td>\n",
       "      <td>NaN</td>\n",
       "      <td>0.127428</td>\n",
       "      <td>0.015894</td>\n",
       "    </tr>\n",
       "  </tbody>\n",
       "</table>\n",
       "</div>"
      ],
      "text/plain": [
       "                           Model  Compound  Train Accuracy  Test Accuracy\n",
       "NaN            Linear Regression       NaN        0.127451       0.016087\n",
       "NaN  Partial Least Squares (n=2)       NaN        0.127428       0.015894"
      ]
     },
     "execution_count": 40,
     "metadata": {},
     "output_type": "execute_result"
    }
   ],
   "source": [
    "df_results"
   ]
  },
  {
   "cell_type": "code",
   "execution_count": 41,
   "metadata": {},
   "outputs": [
    {
     "name": "stdout",
     "output_type": "stream",
     "text": [
      "The 4 matrices are of sizes:  (40572, 3) (21168, 3) (40572,) (21168,)\n",
      "The training accuracy for the model is  0.12745063993406358\n",
      "The testing accuracy for the model is  0.016087496323981876\n"
     ]
    }
   ],
   "source": [
    "def pls3(df):\n",
    "    X_train, X_test, y_train, y_test = test_train_compound(df)\n",
    "    print(\"The 4 matrices are of sizes: \", X_train.shape, X_test.shape, y_train.shape, y_test.shape)\n",
    "    pls3 = PLSRegression(n_components=3).fit(X_train, y_train)\n",
    "    \n",
    "    \n",
    "    df_pred = df.copy()\n",
    "    df_pred['predicted_wt'] = pls3.predict(df[[\"wave\", \"temp\", \"time\"]])\n",
    "    df_pred.to_csv('output/scenario3/prediction_plsr3.csv')\n",
    "    \n",
    "    \n",
    "    print(\"The training accuracy for the model is \", pls3.score(X_train, y_train))\n",
    "    print(\"The testing accuracy for the model is \", pls3.score(X_test, y_test))\n",
    "    return pd.DataFrame({'Model': 'Partial Least Squares (n=3)',\n",
    "                           'Train Accuracy': pls3.score(X_train, y_train),\n",
    "                           'Test Accuracy' : pls3.score(X_test, y_test)}, index = [None])\n",
    "\n",
    "\n",
    "df_results = df_results.append(pls3(df))"
   ]
  },
  {
   "cell_type": "markdown",
   "metadata": {},
   "source": [
    "## Random forest"
   ]
  },
  {
   "cell_type": "code",
   "execution_count": 42,
   "metadata": {},
   "outputs": [
    {
     "name": "stdout",
     "output_type": "stream",
     "text": [
      "The 4 matrices are of sizes:  (40572, 3) (21168, 3) (40572,) (21168,)\n",
      "The training accuracy for the model is  0.48200859215529135\n",
      "The testing accuracy for the model is  0.5093876289730748\n"
     ]
    }
   ],
   "source": [
    "def random_forest(df):\n",
    "    X_train, X_test, y_train, y_test = test_train_compound(df)\n",
    "    print(\"The 4 matrices are of sizes: \", X_train.shape, X_test.shape, y_train.shape, y_test.shape)\n",
    "    rf2 = RandomForestRegressor(random_state=0, max_depth = 2).fit(X_train, y_train)\n",
    "    \n",
    "    \n",
    "    df_pred = df.copy()\n",
    "    df_pred['predicted_wt'] = rf2.predict(df[[\"wave\", \"temp\", \"time\"]])\n",
    "    df_pred.to_csv('output/scenario3/prediction_rf2.csv')\n",
    "    \n",
    "    \n",
    "    print(\"The training accuracy for the model is \", rf2.score(X_train, y_train))\n",
    "    print(\"The testing accuracy for the model is \", rf2.score(X_test, y_test))\n",
    "    \n",
    "    return pd.DataFrame({'Model': 'Random Forest Regression (max_depth = 2)',\n",
    "                           'Train Accuracy': rf2.score(X_train, y_train),\n",
    "                           'Test Accuracy' : rf2.score(X_test, y_test)}, index=[None])\n",
    "\n",
    "df_results = df_results.append(random_forest(df))"
   ]
  },
  {
   "cell_type": "code",
   "execution_count": 43,
   "metadata": {},
   "outputs": [
    {
     "name": "stdout",
     "output_type": "stream",
     "text": [
      "The 4 matrices are of sizes:  (40572, 3) (21168, 3) (40572,) (21168,)\n",
      "The training accuracy for the model is  0.8688427481457992\n",
      "The testing accuracy for the model is  0.8893536715081066\n"
     ]
    }
   ],
   "source": [
    "def random_forest(df):\n",
    "    X_train, X_test, y_train, y_test = test_train_compound(df)\n",
    "    print(\"The 4 matrices are of sizes: \", X_train.shape, X_test.shape, y_train.shape, y_test.shape)\n",
    "    rf5 = RandomForestRegressor(random_state=0, max_depth = 5).fit(X_train, y_train)\n",
    "    \n",
    "    \n",
    "    df_pred = df.copy()\n",
    "    df_pred['predicted_wt'] = rf5.predict(df[[\"wave\", \"temp\", \"time\"]])\n",
    "    df_pred.to_csv('output/scenario3/prediction_rf5.csv')\n",
    "    \n",
    "    \n",
    "    print(\"The training accuracy for the model is \", rf5.score(X_train, y_train))\n",
    "    print(\"The testing accuracy for the model is \", rf5.score(X_test, y_test))\n",
    "    \n",
    "    return pd.DataFrame({'Model': 'Random Forest Regression (max_depth = 5)',\n",
    "                           'Train Accuracy': rf5.score(X_train, y_train),\n",
    "                           'Test Accuracy' : rf5.score(X_test, y_test)}, index=[None])\n",
    "\n",
    "df_results = df_results.append(random_forest(df))"
   ]
  },
  {
   "cell_type": "code",
   "execution_count": 44,
   "metadata": {},
   "outputs": [
    {
     "name": "stdout",
     "output_type": "stream",
     "text": [
      "The 4 matrices are of sizes:  (40572, 3) (21168, 3) (40572,) (21168,)\n",
      "The training accuracy for the model is  0.9367691351704412\n",
      "The testing accuracy for the model is  0.9370978019371532\n"
     ]
    }
   ],
   "source": [
    "def random_forest(df):\n",
    "    X_train, X_test, y_train, y_test = test_train_compound(df)\n",
    "    print(\"The 4 matrices are of sizes: \", X_train.shape, X_test.shape, y_train.shape, y_test.shape)\n",
    "    rf7 = RandomForestRegressor(random_state=0, max_depth = 7).fit(X_train, y_train)\n",
    "    \n",
    "    \n",
    "    df_pred = df.copy()\n",
    "    df_pred['predicted_wt'] = rf7.predict(df[[\"wave\", \"temp\", \"time\"]])\n",
    "    df_pred.to_csv('output/scenario3/prediction_rf7.csv')\n",
    "    \n",
    "    \n",
    "    print(\"The training accuracy for the model is \", rf7.score(X_train, y_train))\n",
    "    print(\"The testing accuracy for the model is \", rf7.score(X_test, y_test))\n",
    "    \n",
    "    return pd.DataFrame({'Model': 'Random Forest Regression (max_depth = 7)',\n",
    "                           'Train Accuracy': rf7.score(X_train, y_train),\n",
    "                           'Test Accuracy' : rf7.score(X_test, y_test)}, index=[None])\n",
    "\n",
    "df_results = df_results.append(random_forest(df))"
   ]
  },
  {
   "cell_type": "code",
   "execution_count": 45,
   "metadata": {},
   "outputs": [
    {
     "name": "stdout",
     "output_type": "stream",
     "text": [
      "The 4 matrices are of sizes:  (40572, 3) (21168, 3) (40572,) (21168,)\n",
      "The training accuracy for the model is  0.9797470654854986\n",
      "The testing accuracy for the model is  0.9416491147270614\n"
     ]
    }
   ],
   "source": [
    "def random_forest(df):\n",
    "    X_train, X_test, y_train, y_test = test_train_compound(df)\n",
    "    print(\"The 4 matrices are of sizes: \", X_train.shape, X_test.shape, y_train.shape, y_test.shape)\n",
    "    rf10 = RandomForestRegressor(random_state=0, max_depth = 10).fit(X_train, y_train)\n",
    "    \n",
    "    \n",
    "    df_pred = df.copy()\n",
    "    df_pred['predicted_wt'] = rf10.predict(df[[\"wave\", \"temp\", \"time\"]])\n",
    "    df_pred.to_csv('output/scenario3/prediction_rf10.csv')\n",
    "    \n",
    "    \n",
    "    print(\"The training accuracy for the model is \", rf10.score(X_train, y_train))\n",
    "    print(\"The testing accuracy for the model is \", rf10.score(X_test, y_test))\n",
    "    \n",
    "    return pd.DataFrame({'Model': 'Random Forest Regression (max_depth = 10)',\n",
    "                           'Train Accuracy': rf10.score(X_train, y_train),\n",
    "                           'Test Accuracy' : rf10.score(X_test, y_test)}, index=[None])\n",
    "\n",
    "df_results = df_results.append(random_forest(df))"
   ]
  },
  {
   "cell_type": "code",
   "execution_count": 46,
   "metadata": {},
   "outputs": [
    {
     "name": "stdout",
     "output_type": "stream",
     "text": [
      "The 4 matrices are of sizes:  (40572, 3) (21168, 3) (40572,) (21168,)\n",
      "The training accuracy for the model is  0.9970817301817567\n",
      "The testing accuracy for the model is  0.9414996545308387\n"
     ]
    }
   ],
   "source": [
    "def random_forest(df):\n",
    "    X_train, X_test, y_train, y_test = test_train_compound(df)\n",
    "    print(\"The 4 matrices are of sizes: \", X_train.shape, X_test.shape, y_train.shape, y_test.shape)\n",
    "    rf15 = RandomForestRegressor(random_state=0, max_depth = 15).fit(X_train, y_train)\n",
    "    \n",
    "    \n",
    "    df_pred = df.copy()\n",
    "    df_pred['predicted_wt'] = rf15.predict(df[[\"wave\", \"temp\", \"time\"]])\n",
    "    df_pred.to_csv('output/scenario3/prediction_rf15.csv')\n",
    "    \n",
    "    \n",
    "    print(\"The training accuracy for the model is \", rf15.score(X_train, y_train))\n",
    "    print(\"The testing accuracy for the model is \", rf15.score(X_test, y_test))\n",
    "    \n",
    "    return pd.DataFrame({'Model': 'Random Forest Regression (max_depth = 15)',\n",
    "                           'Train Accuracy': rf15.score(X_train, y_train),\n",
    "                           'Test Accuracy' : rf15.score(X_test, y_test)}, index=[None])\n",
    "\n",
    "df_results = df_results.append(random_forest(df))"
   ]
  },
  {
   "cell_type": "code",
   "execution_count": 47,
   "metadata": {},
   "outputs": [
    {
     "data": {
      "application/vnd.vegalite.v3+json": {
       "$schema": "https://vega.github.io/schema/vega-lite/v3.4.0.json",
       "columns": 3,
       "config": {
        "mark": {
         "tooltip": null
        },
        "view": {
         "height": 300,
         "width": 400
        }
       },
       "data": {
        "name": "data-c8e7c176fcd9d80fe92daeddb28e4914"
       },
       "datasets": {
        "data-c8e7c176fcd9d80fe92daeddb28e4914": [
         {
          "Accuracy": 0.9275596487707117,
          "Type": "training",
          "max_depth": 7,
          "n_estimator": 1
         },
         {
          "Accuracy": 0.9311080145378806,
          "Type": "training",
          "max_depth": 7,
          "n_estimator": 2
         },
         {
          "Accuracy": 0.9321790229463371,
          "Type": "training",
          "max_depth": 7,
          "n_estimator": 3
         },
         {
          "Accuracy": 0.9319224481113333,
          "Type": "training",
          "max_depth": 7,
          "n_estimator": 5
         },
         {
          "Accuracy": 0.9343573366859451,
          "Type": "training",
          "max_depth": 7,
          "n_estimator": 10
         },
         {
          "Accuracy": 0.9359639704155437,
          "Type": "training",
          "max_depth": 7,
          "n_estimator": 20
         },
         {
          "Accuracy": 0.9365924350082135,
          "Type": "training",
          "max_depth": 7,
          "n_estimator": 30
         },
         {
          "Accuracy": 0.936687762814316,
          "Type": "training",
          "max_depth": 7,
          "n_estimator": 50
         },
         {
          "Accuracy": 0.9367691351704412,
          "Type": "training",
          "max_depth": 7,
          "n_estimator": 100
         },
         {
          "Accuracy": 0.9456885941947881,
          "Type": "training",
          "max_depth": 8,
          "n_estimator": 1
         },
         {
          "Accuracy": 0.9486366266364965,
          "Type": "training",
          "max_depth": 8,
          "n_estimator": 2
         },
         {
          "Accuracy": 0.9489996159071936,
          "Type": "training",
          "max_depth": 8,
          "n_estimator": 3
         },
         {
          "Accuracy": 0.9488117575871098,
          "Type": "training",
          "max_depth": 8,
          "n_estimator": 5
         },
         {
          "Accuracy": 0.9508095817381134,
          "Type": "training",
          "max_depth": 8,
          "n_estimator": 10
         },
         {
          "Accuracy": 0.9523689923743098,
          "Type": "training",
          "max_depth": 8,
          "n_estimator": 20
         },
         {
          "Accuracy": 0.9534045382865967,
          "Type": "training",
          "max_depth": 8,
          "n_estimator": 30
         },
         {
          "Accuracy": 0.9529666877188007,
          "Type": "training",
          "max_depth": 8,
          "n_estimator": 50
         },
         {
          "Accuracy": 0.9533045608280762,
          "Type": "training",
          "max_depth": 8,
          "n_estimator": 100
         },
         {
          "Accuracy": 0.9625851777437376,
          "Type": "training",
          "max_depth": 9,
          "n_estimator": 1
         },
         {
          "Accuracy": 0.9654419587138623,
          "Type": "training",
          "max_depth": 9,
          "n_estimator": 2
         },
         {
          "Accuracy": 0.9659789252155925,
          "Type": "training",
          "max_depth": 9,
          "n_estimator": 3
         },
         {
          "Accuracy": 0.9661555113344035,
          "Type": "training",
          "max_depth": 9,
          "n_estimator": 5
         },
         {
          "Accuracy": 0.9687777798524089,
          "Type": "training",
          "max_depth": 9,
          "n_estimator": 10
         },
         {
          "Accuracy": 0.9702853527200848,
          "Type": "training",
          "max_depth": 9,
          "n_estimator": 20
         },
         {
          "Accuracy": 0.9713002560757338,
          "Type": "training",
          "max_depth": 9,
          "n_estimator": 30
         },
         {
          "Accuracy": 0.9707247214514619,
          "Type": "training",
          "max_depth": 9,
          "n_estimator": 50
         },
         {
          "Accuracy": 0.9711341890419066,
          "Type": "training",
          "max_depth": 9,
          "n_estimator": 100
         },
         {
          "Accuracy": 0.9710953378629967,
          "Type": "training",
          "max_depth": 10,
          "n_estimator": 1
         },
         {
          "Accuracy": 0.9748427484099353,
          "Type": "training",
          "max_depth": 10,
          "n_estimator": 2
         },
         {
          "Accuracy": 0.9752029636338152,
          "Type": "training",
          "max_depth": 10,
          "n_estimator": 3
         },
         {
          "Accuracy": 0.9757117386915323,
          "Type": "training",
          "max_depth": 10,
          "n_estimator": 5
         },
         {
          "Accuracy": 0.9777887765190644,
          "Type": "training",
          "max_depth": 10,
          "n_estimator": 10
         },
         {
          "Accuracy": 0.9789688693855363,
          "Type": "training",
          "max_depth": 10,
          "n_estimator": 20
         },
         {
          "Accuracy": 0.9800525182886147,
          "Type": "training",
          "max_depth": 10,
          "n_estimator": 30
         },
         {
          "Accuracy": 0.9794851710995506,
          "Type": "training",
          "max_depth": 10,
          "n_estimator": 50
         },
         {
          "Accuracy": 0.9797470654854986,
          "Type": "training",
          "max_depth": 10,
          "n_estimator": 100
         },
         {
          "Accuracy": 0.9804703304752911,
          "Type": "training",
          "max_depth": 11,
          "n_estimator": 1
         },
         {
          "Accuracy": 0.9836388514489866,
          "Type": "training",
          "max_depth": 11,
          "n_estimator": 2
         },
         {
          "Accuracy": 0.9843195254677947,
          "Type": "training",
          "max_depth": 11,
          "n_estimator": 3
         },
         {
          "Accuracy": 0.9848131889486976,
          "Type": "training",
          "max_depth": 11,
          "n_estimator": 5
         },
         {
          "Accuracy": 0.9866099612147515,
          "Type": "training",
          "max_depth": 11,
          "n_estimator": 10
         },
         {
          "Accuracy": 0.9873481837206549,
          "Type": "training",
          "max_depth": 11,
          "n_estimator": 20
         },
         {
          "Accuracy": 0.9881112712595926,
          "Type": "training",
          "max_depth": 11,
          "n_estimator": 30
         },
         {
          "Accuracy": 0.9876772518501175,
          "Type": "training",
          "max_depth": 11,
          "n_estimator": 50
         },
         {
          "Accuracy": 0.9878481862973476,
          "Type": "training",
          "max_depth": 11,
          "n_estimator": 100
         },
         {
          "Accuracy": 0.98618011568889,
          "Type": "training",
          "max_depth": 12,
          "n_estimator": 1
         },
         {
          "Accuracy": 0.9885084846055866,
          "Type": "training",
          "max_depth": 12,
          "n_estimator": 2
         },
         {
          "Accuracy": 0.9895700503662301,
          "Type": "training",
          "max_depth": 12,
          "n_estimator": 3
         },
         {
          "Accuracy": 0.9899475256433181,
          "Type": "training",
          "max_depth": 12,
          "n_estimator": 5
         },
         {
          "Accuracy": 0.9910399008814931,
          "Type": "training",
          "max_depth": 12,
          "n_estimator": 10
         },
         {
          "Accuracy": 0.9916168627052229,
          "Type": "training",
          "max_depth": 12,
          "n_estimator": 20
         },
         {
          "Accuracy": 0.9920935564740903,
          "Type": "training",
          "max_depth": 12,
          "n_estimator": 30
         },
         {
          "Accuracy": 0.9917418094191408,
          "Type": "training",
          "max_depth": 12,
          "n_estimator": 50
         },
         {
          "Accuracy": 0.9918566105407048,
          "Type": "training",
          "max_depth": 12,
          "n_estimator": 100
         },
         {
          "Accuracy": 0.9900346542353573,
          "Type": "training",
          "max_depth": 13,
          "n_estimator": 1
         },
         {
          "Accuracy": 0.9914163718779672,
          "Type": "training",
          "max_depth": 13,
          "n_estimator": 2
         },
         {
          "Accuracy": 0.9922767789576159,
          "Type": "training",
          "max_depth": 13,
          "n_estimator": 3
         },
         {
          "Accuracy": 0.9927170372934165,
          "Type": "training",
          "max_depth": 13,
          "n_estimator": 5
         },
         {
          "Accuracy": 0.9937763841469966,
          "Type": "training",
          "max_depth": 13,
          "n_estimator": 10
         },
         {
          "Accuracy": 0.9941036577873056,
          "Type": "training",
          "max_depth": 13,
          "n_estimator": 20
         },
         {
          "Accuracy": 0.9944289289276421,
          "Type": "training",
          "max_depth": 13,
          "n_estimator": 30
         },
         {
          "Accuracy": 0.9942584444634734,
          "Type": "training",
          "max_depth": 13,
          "n_estimator": 50
         },
         {
          "Accuracy": 0.9943212276078827,
          "Type": "training",
          "max_depth": 13,
          "n_estimator": 100
         },
         {
          "Accuracy": 0.9920998926089215,
          "Type": "training",
          "max_depth": 14,
          "n_estimator": 1
         },
         {
          "Accuracy": 0.9935019945926793,
          "Type": "training",
          "max_depth": 14,
          "n_estimator": 2
         },
         {
          "Accuracy": 0.9942724287365935,
          "Type": "training",
          "max_depth": 14,
          "n_estimator": 3
         },
         {
          "Accuracy": 0.9947545293603465,
          "Type": "training",
          "max_depth": 14,
          "n_estimator": 5
         },
         {
          "Accuracy": 0.9955313834520352,
          "Type": "training",
          "max_depth": 14,
          "n_estimator": 10
         },
         {
          "Accuracy": 0.9958230315992441,
          "Type": "training",
          "max_depth": 14,
          "n_estimator": 20
         },
         {
          "Accuracy": 0.9960317267622312,
          "Type": "training",
          "max_depth": 14,
          "n_estimator": 30
         },
         {
          "Accuracy": 0.9959296023960037,
          "Type": "training",
          "max_depth": 14,
          "n_estimator": 50
         },
         {
          "Accuracy": 0.9959854515492358,
          "Type": "training",
          "max_depth": 14,
          "n_estimator": 100
         },
         {
          "Accuracy": 0.993698519640461,
          "Type": "training",
          "max_depth": 15,
          "n_estimator": 1
         },
         {
          "Accuracy": 0.994950301870227,
          "Type": "training",
          "max_depth": 15,
          "n_estimator": 2
         },
         {
          "Accuracy": 0.9955959284815462,
          "Type": "training",
          "max_depth": 15,
          "n_estimator": 3
         },
         {
          "Accuracy": 0.9960779341347719,
          "Type": "training",
          "max_depth": 15,
          "n_estimator": 5
         },
         {
          "Accuracy": 0.9967064233569728,
          "Type": "training",
          "max_depth": 15,
          "n_estimator": 10
         },
         {
          "Accuracy": 0.996946780693747,
          "Type": "training",
          "max_depth": 15,
          "n_estimator": 20
         },
         {
          "Accuracy": 0.9970872494210395,
          "Type": "training",
          "max_depth": 15,
          "n_estimator": 30
         },
         {
          "Accuracy": 0.9970485914516006,
          "Type": "training",
          "max_depth": 15,
          "n_estimator": 50
         },
         {
          "Accuracy": 0.9970817301817567,
          "Type": "training",
          "max_depth": 15,
          "n_estimator": 100
         },
         {
          "Accuracy": 0.99452893702581,
          "Type": "training",
          "max_depth": 16,
          "n_estimator": 1
         },
         {
          "Accuracy": 0.9958842945756673,
          "Type": "training",
          "max_depth": 16,
          "n_estimator": 2
         },
         {
          "Accuracy": 0.9964872842787252,
          "Type": "training",
          "max_depth": 16,
          "n_estimator": 3
         },
         {
          "Accuracy": 0.996943799686875,
          "Type": "training",
          "max_depth": 16,
          "n_estimator": 5
         },
         {
          "Accuracy": 0.997488088224284,
          "Type": "training",
          "max_depth": 16,
          "n_estimator": 10
         },
         {
          "Accuracy": 0.9977093954822862,
          "Type": "training",
          "max_depth": 16,
          "n_estimator": 20
         },
         {
          "Accuracy": 0.9978296714839691,
          "Type": "training",
          "max_depth": 16,
          "n_estimator": 30
         },
         {
          "Accuracy": 0.9978309260336442,
          "Type": "training",
          "max_depth": 16,
          "n_estimator": 50
         },
         {
          "Accuracy": 0.9978608744479167,
          "Type": "training",
          "max_depth": 16,
          "n_estimator": 100
         },
         {
          "Accuracy": 0.995417683394903,
          "Type": "training",
          "max_depth": 17,
          "n_estimator": 1
         },
         {
          "Accuracy": 0.996638684112169,
          "Type": "training",
          "max_depth": 17,
          "n_estimator": 2
         },
         {
          "Accuracy": 0.9971758723748634,
          "Type": "training",
          "max_depth": 17,
          "n_estimator": 3
         },
         {
          "Accuracy": 0.9975896478738013,
          "Type": "training",
          "max_depth": 17,
          "n_estimator": 5
         },
         {
          "Accuracy": 0.9980744102599254,
          "Type": "training",
          "max_depth": 17,
          "n_estimator": 10
         },
         {
          "Accuracy": 0.9982520274844727,
          "Type": "training",
          "max_depth": 17,
          "n_estimator": 20
         },
         {
          "Accuracy": 0.9983505222388787,
          "Type": "training",
          "max_depth": 17,
          "n_estimator": 30
         },
         {
          "Accuracy": 0.9983674846921073,
          "Type": "training",
          "max_depth": 17,
          "n_estimator": 50
         },
         {
          "Accuracy": 0.9983818542249823,
          "Type": "training",
          "max_depth": 17,
          "n_estimator": 100
         },
         {
          "Accuracy": 0.9289268583366944,
          "Type": "testing",
          "max_depth": 7,
          "n_estimator": 1
         },
         {
          "Accuracy": 0.9331206729970282,
          "Type": "testing",
          "max_depth": 7,
          "n_estimator": 2
         },
         {
          "Accuracy": 0.9336298133143821,
          "Type": "testing",
          "max_depth": 7,
          "n_estimator": 3
         },
         {
          "Accuracy": 0.9329881249366404,
          "Type": "testing",
          "max_depth": 7,
          "n_estimator": 5
         },
         {
          "Accuracy": 0.935116928878385,
          "Type": "testing",
          "max_depth": 7,
          "n_estimator": 10
         },
         {
          "Accuracy": 0.9364204057013741,
          "Type": "testing",
          "max_depth": 7,
          "n_estimator": 20
         },
         {
          "Accuracy": 0.9365446975891585,
          "Type": "testing",
          "max_depth": 7,
          "n_estimator": 30
         },
         {
          "Accuracy": 0.9368251168270864,
          "Type": "testing",
          "max_depth": 7,
          "n_estimator": 50
         },
         {
          "Accuracy": 0.9370978019371532,
          "Type": "testing",
          "max_depth": 7,
          "n_estimator": 100
         },
         {
          "Accuracy": 0.9383850448059403,
          "Type": "testing",
          "max_depth": 8,
          "n_estimator": 1
         },
         {
          "Accuracy": 0.9419268001793433,
          "Type": "testing",
          "max_depth": 8,
          "n_estimator": 2
         },
         {
          "Accuracy": 0.9427752923868513,
          "Type": "testing",
          "max_depth": 8,
          "n_estimator": 3
         },
         {
          "Accuracy": 0.9426844853932299,
          "Type": "testing",
          "max_depth": 8,
          "n_estimator": 5
         },
         {
          "Accuracy": 0.9432230769123588,
          "Type": "testing",
          "max_depth": 8,
          "n_estimator": 10
         },
         {
          "Accuracy": 0.9433727307647112,
          "Type": "testing",
          "max_depth": 8,
          "n_estimator": 20
         },
         {
          "Accuracy": 0.9434774467896091,
          "Type": "testing",
          "max_depth": 8,
          "n_estimator": 30
         },
         {
          "Accuracy": 0.9439461855356723,
          "Type": "testing",
          "max_depth": 8,
          "n_estimator": 50
         },
         {
          "Accuracy": 0.9436362944867372,
          "Type": "testing",
          "max_depth": 8,
          "n_estimator": 100
         },
         {
          "Accuracy": 0.9394523234458595,
          "Type": "testing",
          "max_depth": 9,
          "n_estimator": 1
         },
         {
          "Accuracy": 0.9398135715475316,
          "Type": "testing",
          "max_depth": 9,
          "n_estimator": 2
         },
         {
          "Accuracy": 0.9406084388686373,
          "Type": "testing",
          "max_depth": 9,
          "n_estimator": 3
         },
         {
          "Accuracy": 0.9409279704382135,
          "Type": "testing",
          "max_depth": 9,
          "n_estimator": 5
         },
         {
          "Accuracy": 0.9423748914918835,
          "Type": "testing",
          "max_depth": 9,
          "n_estimator": 10
         },
         {
          "Accuracy": 0.9427647380370643,
          "Type": "testing",
          "max_depth": 9,
          "n_estimator": 20
         },
         {
          "Accuracy": 0.9425965483778734,
          "Type": "testing",
          "max_depth": 9,
          "n_estimator": 30
         },
         {
          "Accuracy": 0.9430536523092794,
          "Type": "testing",
          "max_depth": 9,
          "n_estimator": 50
         },
         {
          "Accuracy": 0.9432935436534051,
          "Type": "testing",
          "max_depth": 9,
          "n_estimator": 100
         },
         {
          "Accuracy": 0.9376140246600532,
          "Type": "testing",
          "max_depth": 10,
          "n_estimator": 1
         },
         {
          "Accuracy": 0.9374976939670772,
          "Type": "testing",
          "max_depth": 10,
          "n_estimator": 2
         },
         {
          "Accuracy": 0.9371108876219948,
          "Type": "testing",
          "max_depth": 10,
          "n_estimator": 3
         },
         {
          "Accuracy": 0.937982217057929,
          "Type": "testing",
          "max_depth": 10,
          "n_estimator": 5
         },
         {
          "Accuracy": 0.9401274280755036,
          "Type": "testing",
          "max_depth": 10,
          "n_estimator": 10
         },
         {
          "Accuracy": 0.9409506672769787,
          "Type": "testing",
          "max_depth": 10,
          "n_estimator": 20
         },
         {
          "Accuracy": 0.9413492030153544,
          "Type": "testing",
          "max_depth": 10,
          "n_estimator": 30
         },
         {
          "Accuracy": 0.941115736568501,
          "Type": "testing",
          "max_depth": 10,
          "n_estimator": 50
         },
         {
          "Accuracy": 0.9416491147270614,
          "Type": "testing",
          "max_depth": 10,
          "n_estimator": 100
         },
         {
          "Accuracy": 0.9374593353410627,
          "Type": "testing",
          "max_depth": 11,
          "n_estimator": 1
         },
         {
          "Accuracy": 0.9384406445071537,
          "Type": "testing",
          "max_depth": 11,
          "n_estimator": 2
         },
         {
          "Accuracy": 0.9380030465718404,
          "Type": "testing",
          "max_depth": 11,
          "n_estimator": 3
         },
         {
          "Accuracy": 0.9388208807165475,
          "Type": "testing",
          "max_depth": 11,
          "n_estimator": 5
         },
         {
          "Accuracy": 0.9396274638839446,
          "Type": "testing",
          "max_depth": 11,
          "n_estimator": 10
         },
         {
          "Accuracy": 0.9400471878475427,
          "Type": "testing",
          "max_depth": 11,
          "n_estimator": 20
         },
         {
          "Accuracy": 0.9406001357961525,
          "Type": "testing",
          "max_depth": 11,
          "n_estimator": 30
         },
         {
          "Accuracy": 0.9403412815765038,
          "Type": "testing",
          "max_depth": 11,
          "n_estimator": 50
         },
         {
          "Accuracy": 0.9406085472435066,
          "Type": "testing",
          "max_depth": 11,
          "n_estimator": 100
         },
         {
          "Accuracy": 0.9372381894439643,
          "Type": "testing",
          "max_depth": 12,
          "n_estimator": 1
         },
         {
          "Accuracy": 0.9382148580951666,
          "Type": "testing",
          "max_depth": 12,
          "n_estimator": 2
         },
         {
          "Accuracy": 0.9388369938381835,
          "Type": "testing",
          "max_depth": 12,
          "n_estimator": 3
         },
         {
          "Accuracy": 0.9406339015535324,
          "Type": "testing",
          "max_depth": 12,
          "n_estimator": 5
         },
         {
          "Accuracy": 0.9413568608591728,
          "Type": "testing",
          "max_depth": 12,
          "n_estimator": 10
         },
         {
          "Accuracy": 0.9416693600019647,
          "Type": "testing",
          "max_depth": 12,
          "n_estimator": 20
         },
         {
          "Accuracy": 0.941945397250925,
          "Type": "testing",
          "max_depth": 12,
          "n_estimator": 30
         },
         {
          "Accuracy": 0.9415307112204463,
          "Type": "testing",
          "max_depth": 12,
          "n_estimator": 50
         },
         {
          "Accuracy": 0.9415739950590546,
          "Type": "testing",
          "max_depth": 12,
          "n_estimator": 100
         },
         {
          "Accuracy": 0.9371743516826676,
          "Type": "testing",
          "max_depth": 13,
          "n_estimator": 1
         },
         {
          "Accuracy": 0.9397858418063344,
          "Type": "testing",
          "max_depth": 13,
          "n_estimator": 2
         },
         {
          "Accuracy": 0.9399929759523064,
          "Type": "testing",
          "max_depth": 13,
          "n_estimator": 3
         },
         {
          "Accuracy": 0.9412464364301629,
          "Type": "testing",
          "max_depth": 13,
          "n_estimator": 5
         },
         {
          "Accuracy": 0.9418019290348572,
          "Type": "testing",
          "max_depth": 13,
          "n_estimator": 10
         },
         {
          "Accuracy": 0.9422540692759326,
          "Type": "testing",
          "max_depth": 13,
          "n_estimator": 20
         },
         {
          "Accuracy": 0.9424614974814557,
          "Type": "testing",
          "max_depth": 13,
          "n_estimator": 30
         },
         {
          "Accuracy": 0.9421483856856466,
          "Type": "testing",
          "max_depth": 13,
          "n_estimator": 50
         },
         {
          "Accuracy": 0.9422091268101956,
          "Type": "testing",
          "max_depth": 13,
          "n_estimator": 100
         },
         {
          "Accuracy": 0.9346082583861739,
          "Type": "testing",
          "max_depth": 14,
          "n_estimator": 1
         },
         {
          "Accuracy": 0.9391148553556617,
          "Type": "testing",
          "max_depth": 14,
          "n_estimator": 2
         },
         {
          "Accuracy": 0.940034793739868,
          "Type": "testing",
          "max_depth": 14,
          "n_estimator": 3
         },
         {
          "Accuracy": 0.9407741485751309,
          "Type": "testing",
          "max_depth": 14,
          "n_estimator": 5
         },
         {
          "Accuracy": 0.9412621061893828,
          "Type": "testing",
          "max_depth": 14,
          "n_estimator": 10
         },
         {
          "Accuracy": 0.9418706099924515,
          "Type": "testing",
          "max_depth": 14,
          "n_estimator": 20
         },
         {
          "Accuracy": 0.942064069577155,
          "Type": "testing",
          "max_depth": 14,
          "n_estimator": 30
         },
         {
          "Accuracy": 0.9417968674377828,
          "Type": "testing",
          "max_depth": 14,
          "n_estimator": 50
         },
         {
          "Accuracy": 0.9419669914316222,
          "Type": "testing",
          "max_depth": 14,
          "n_estimator": 100
         },
         {
          "Accuracy": 0.9364852618196159,
          "Type": "testing",
          "max_depth": 15,
          "n_estimator": 1
         },
         {
          "Accuracy": 0.9395166790735144,
          "Type": "testing",
          "max_depth": 15,
          "n_estimator": 2
         },
         {
          "Accuracy": 0.9401273678567958,
          "Type": "testing",
          "max_depth": 15,
          "n_estimator": 3
         },
         {
          "Accuracy": 0.9408157117622298,
          "Type": "testing",
          "max_depth": 15,
          "n_estimator": 5
         },
         {
          "Accuracy": 0.9412139157516897,
          "Type": "testing",
          "max_depth": 15,
          "n_estimator": 10
         },
         {
          "Accuracy": 0.9416449998859313,
          "Type": "testing",
          "max_depth": 15,
          "n_estimator": 20
         },
         {
          "Accuracy": 0.941785148444746,
          "Type": "testing",
          "max_depth": 15,
          "n_estimator": 30
         },
         {
          "Accuracy": 0.9414446129467304,
          "Type": "testing",
          "max_depth": 15,
          "n_estimator": 50
         },
         {
          "Accuracy": 0.9414996545308387,
          "Type": "testing",
          "max_depth": 15,
          "n_estimator": 100
         },
         {
          "Accuracy": 0.9355710153983645,
          "Type": "testing",
          "max_depth": 16,
          "n_estimator": 1
         },
         {
          "Accuracy": 0.9393253453740985,
          "Type": "testing",
          "max_depth": 16,
          "n_estimator": 2
         },
         {
          "Accuracy": 0.9402036073111785,
          "Type": "testing",
          "max_depth": 16,
          "n_estimator": 3
         },
         {
          "Accuracy": 0.9405934881001312,
          "Type": "testing",
          "max_depth": 16,
          "n_estimator": 5
         },
         {
          "Accuracy": 0.9408672073882739,
          "Type": "testing",
          "max_depth": 16,
          "n_estimator": 10
         },
         {
          "Accuracy": 0.9411355550179582,
          "Type": "testing",
          "max_depth": 16,
          "n_estimator": 20
         },
         {
          "Accuracy": 0.9413809375213295,
          "Type": "testing",
          "max_depth": 16,
          "n_estimator": 30
         },
         {
          "Accuracy": 0.941136028130815,
          "Type": "testing",
          "max_depth": 16,
          "n_estimator": 50
         },
         {
          "Accuracy": 0.9411894111028001,
          "Type": "testing",
          "max_depth": 16,
          "n_estimator": 100
         },
         {
          "Accuracy": 0.9330642272204603,
          "Type": "testing",
          "max_depth": 17,
          "n_estimator": 1
         },
         {
          "Accuracy": 0.938306830387106,
          "Type": "testing",
          "max_depth": 17,
          "n_estimator": 2
         },
         {
          "Accuracy": 0.9394664041301604,
          "Type": "testing",
          "max_depth": 17,
          "n_estimator": 3
         },
         {
          "Accuracy": 0.9399370512413971,
          "Type": "testing",
          "max_depth": 17,
          "n_estimator": 5
         },
         {
          "Accuracy": 0.9402102621835637,
          "Type": "testing",
          "max_depth": 17,
          "n_estimator": 10
         },
         {
          "Accuracy": 0.9407236826767402,
          "Type": "testing",
          "max_depth": 17,
          "n_estimator": 20
         },
         {
          "Accuracy": 0.940917640585056,
          "Type": "testing",
          "max_depth": 17,
          "n_estimator": 30
         },
         {
          "Accuracy": 0.9407000113788422,
          "Type": "testing",
          "max_depth": 17,
          "n_estimator": 50
         },
         {
          "Accuracy": 0.9407944572231279,
          "Type": "testing",
          "max_depth": 17,
          "n_estimator": 100
         }
        ]
       },
       "encoding": {
        "color": {
         "field": "Type",
         "type": "nominal"
        },
        "facet": {
         "field": "n_estimator",
         "type": "quantitative"
        },
        "x": {
         "field": "max_depth",
         "type": "quantitative"
        },
        "y": {
         "field": "Accuracy",
         "scale": {
          "domain": [
           0.92,
           1
          ]
         },
         "type": "quantitative"
        }
       },
       "height": 200,
       "mark": "line",
       "width": 200
      },
      "image/png": "[encoded data removed]",
      "text/plain": [
       "<VegaLite 3 object>\n",
       "\n",
       "If you see this message, it means the renderer has not been properly enabled\n",
       "for the frontend that you are using. For more information, see\n",
       "https://altair-viz.github.io/user_guide/troubleshooting.html\n"
      ]
     },
     "execution_count": 47,
     "metadata": {},
     "output_type": "execute_result"
    }
   ],
   "source": [
    "n_est = [1,2,3,5,10,20,30,50,100]\n",
    "max_depth = range(7,18)\n",
    "X_train, X_test, y_train, y_test = test_train_compound(df)\n",
    "trees = []\n",
    "train_acc = []\n",
    "test_acc = []\n",
    "depth = []\n",
    "for j in max_depth:\n",
    "    for i in n_est:\n",
    "        trees.append(i)\n",
    "        depth.append(j)\n",
    "        rf = RandomForestRegressor(n_estimators = i, max_depth = j, random_state=0).fit(X_train, y_train)\n",
    "        train_acc.append(rf.score(X_train, y_train))\n",
    "        test_acc.append(rf.score(X_test, y_test))\n",
    "        #print(j,i)\n",
    "df_rf = pd.DataFrame({'training' : train_acc,\n",
    "                      'testing' : test_acc,\n",
    "                      'n_estimator' : trees,\n",
    "                      'max_depth' : depth})\n",
    "df_rf = df_rf.melt(id_vars = ['n_estimator', 'max_depth'], var_name = 'Type', value_name = 'Accuracy')\n",
    "df_rf\n",
    "alt.Chart(df_rf).mark_line().encode(\n",
    "    alt.X('max_depth'),\n",
    "    alt.Y('Accuracy', scale=alt.Scale(domain=[0.92, 1])),\n",
    "    alt.Color('Type'),\n",
    "    alt.Facet('n_estimator')\n",
    "    ).properties(width = 200, height = 200, columns = 3)"
   ]
  },
  {
   "cell_type": "markdown",
   "metadata": {},
   "source": [
    "## SVR"
   ]
  },
  {
   "cell_type": "markdown",
   "metadata": {},
   "source": [
    "kernel=\"rbf\", C=100, gamma=0.1, epsilon=0.1\n",
    "\n",
    "https://scikit-learn.org/stable/auto_examples/svm/plot_svm_regression.html"
   ]
  },
  {
   "cell_type": "code",
   "execution_count": null,
   "metadata": {},
   "outputs": [
    {
     "name": "stdout",
     "output_type": "stream",
     "text": [
      "The 4 matrices are of sizes:  (40572, 3) (21168, 3) (40572,) (21168,)\n"
     ]
    }
   ],
   "source": [
    "def svr_rbf(df):\n",
    "    X_train, X_test, y_train, y_test = test_train_compound(df)\n",
    "    print(\"The 4 matrices are of sizes: \", X_train.shape, X_test.shape, y_train.shape, y_test.shape)\n",
    "    svr_rbf = SVR(kernel=\"rbf\").fit(X_train, y_train)\n",
    "    \n",
    "    df_pred = df.copy()\n",
    "    df_pred['predicted_wt'] = svr_rbf.predict(df[[\"wave\", \"temp\", \"time\"]])\n",
    "    df_pred.to_csv('output/scenario3/prediction_svr_rbf.csv')\n",
    "    \n",
    "    print(\"The training accuracy for the model is \", svr_rbf.score(X_train, y_train))\n",
    "    print(\"The testing accuracy for the model is \", svr_rbf.score(X_test, y_test))\n",
    "    \n",
    "    return pd.DataFrame({'Model': 'SVR RBF Kernel',\n",
    "                           'Train Accuracy': svr_rbf.score(X_train, y_train),\n",
    "                           'Test Accuracy' : svr_rbf.score(X_test, y_test)}, index=[None])\n",
    "\n",
    "df_results = df_results.append(svr_rbf(df))"
   ]
  },
  {
   "cell_type": "markdown",
   "metadata": {},
   "source": [
    "## GBR"
   ]
  },
  {
   "cell_type": "code",
   "execution_count": null,
   "metadata": {},
   "outputs": [],
   "source": [
    "def gbr(df):\n",
    "    X_train, X_test, y_train, y_test = test_train_compound(df)\n",
    "    print(\"The 4 matrices are of sizes: \", X_train.shape, X_test.shape, y_train.shape, y_test.shape)\n",
    "    gbr = GradientBoostingRegressor().fit(X_train,y_train)\n",
    "    \n",
    "    df_pred = df.copy()\n",
    "    df_pred['predicted_wt'] = gbr.predict(df[[\"wave\", \"temp\", \"time\"]])\n",
    "    df_pred.to_csv('output/scenario3/prediction_gbr.csv')\n",
    "    \n",
    "    print(\"The training accuracy for the model is \", gbr.score(X_train, y_train))\n",
    "    print(\"The testing accuracy for the model is \", gbr.score(X_test, y_test))\n",
    "    \n",
    "    return pd.DataFrame({'Model': 'Gradient Boost Regressor',\n",
    "                           'Train Accuracy': gbr.score(X_train, y_train),\n",
    "                           'Test Accuracy' : gbr.score(X_test, y_test)}, index=[None])\n",
    "\n",
    "df_results = df_results.append(gbr(df))"
   ]
  },
  {
   "cell_type": "code",
   "execution_count": null,
   "metadata": {},
   "outputs": [],
   "source": [
    "df_results"
   ]
  },
  {
   "cell_type": "code",
   "execution_count": null,
   "metadata": {},
   "outputs": [],
   "source": [
    "# n_est = [1,2,3,5,10,20,30,50,100]\n",
    "# max_depth = range(1,8)\n",
    "# X_train, X_test, y_train, y_test = test_train_compound(df)\n",
    "# trees = []\n",
    "# train_acc = []\n",
    "# test_acc = []\n",
    "# depth = []\n",
    "# for j in max_depth:\n",
    "#     for i in n_est:\n",
    "#         trees.append(i)\n",
    "#         depth.append(j)\n",
    "#         gbr = GradientBoostingRegressor(n_estimators = i, max_depth = j, random_state=0).fit(X_train, y_train)\n",
    "#         train_acc.append(gbr.score(X_train, y_train))\n",
    "#         test_acc.append(gbr.score(X_test, y_test))\n",
    "#         print(j,i)\n",
    "# df_gbr = pd.DataFrame({'training' : train_acc,\n",
    "#                       'testing' : test_acc,\n",
    "#                       'n_estimator' : trees,\n",
    "#                       'max_depth' : depth})\n",
    "# df_gbr = df_gbr.melt(id_vars = ['n_estimator', 'max_depth'], var_name = 'Type', value_name = 'Accuracy')\n",
    "# df_gbr\n",
    "# alt.Chart(df_gbr).mark_line().encode(\n",
    "#     alt.X('n_estimator'),\n",
    "#     alt.Y('Accuracy', scale=alt.Scale(domain=[0, 1])),\n",
    "#     alt.Color('Type'),\n",
    "#     alt.Facet('max_depth')\n",
    "#     ).properties(width = 200, height = 200, columns = 3)"
   ]
  },
  {
   "cell_type": "code",
   "execution_count": null,
   "metadata": {},
   "outputs": [],
   "source": []
  },
  {
   "cell_type": "markdown",
   "metadata": {},
   "source": [
    "## Write results to file"
   ]
  },
  {
   "cell_type": "code",
   "execution_count": null,
   "metadata": {},
   "outputs": [],
   "source": [
    "df_results.to_csv('output/scenario3/results_table.csv')"
   ]
  },
  {
   "cell_type": "code",
   "execution_count": null,
   "metadata": {},
   "outputs": [],
   "source": []
  }
 ],
 "metadata": {
  "kernelspec": {
   "display_name": "Python 3",
   "language": "python",
   "name": "python3"
  },
  "language_info": {
   "codemirror_mode": {
    "name": "ipython",
    "version": 3
   },
   "file_extension": ".py",
   "mimetype": "text/x-python",
   "name": "python",
   "nbconvert_exporter": "python",
   "pygments_lexer": "ipython3",
   "version": "3.7.6"
  }
 },
 "nbformat": 4,
 "nbformat_minor": 4
}
