{
 "cells": [
  {
   "cell_type": "code",
   "execution_count": 2,
   "metadata": {},
   "outputs": [
    {
     "data": {
      "text/plain": [
       "DataTransformerRegistry.enable('default')"
      ]
     },
     "execution_count": 2,
     "metadata": {},
     "output_type": "execute_result"
    }
   ],
   "source": [
    "import pandas as pd\n",
    "from sklearn.model_selection import train_test_split\n",
    "from sklearn.linear_model import LinearRegression\n",
    "from sklearn.ensemble import RandomForestRegressor\n",
    "from sklearn.svm import SVR\n",
    "from sklearn import tree\n",
    "from sklearn.tree import export_graphviz\n",
    "import altair as alt\n",
    "from dtreeviz.trees import dtreeviz # will be used for tree visualization\n",
    "from matplotlib import pyplot as plt\n",
    "from sklearn.cross_decomposition import PLSRegression\n",
    "from sklearn.ensemble import GradientBoostingRegressor\n",
    "alt.data_transformers.disable_max_rows()"
   ]
  },
  {
   "cell_type": "markdown",
   "metadata": {},
   "source": [
    "## File Import"
   ]
  },
  {
   "cell_type": "code",
   "execution_count": 4,
   "metadata": {},
   "outputs": [
    {
     "data": {
      "text/html": [
       "<div>\n",
       "<style scoped>\n",
       "    .dataframe tbody tr th:only-of-type {\n",
       "        vertical-align: middle;\n",
       "    }\n",
       "\n",
       "    .dataframe tbody tr th {\n",
       "        vertical-align: top;\n",
       "    }\n",
       "\n",
       "    .dataframe thead th {\n",
       "        text-align: right;\n",
       "    }\n",
       "</style>\n",
       "<table border=\"1\" class=\"dataframe\">\n",
       "  <thead>\n",
       "    <tr style=\"text-align: right;\">\n",
       "      <th></th>\n",
       "      <th>wave</th>\n",
       "      <th>temp</th>\n",
       "      <th>time</th>\n",
       "      <th>intensity</th>\n",
       "    </tr>\n",
       "  </thead>\n",
       "  <tbody>\n",
       "    <tr>\n",
       "      <th>0</th>\n",
       "      <td>599.8177</td>\n",
       "      <td>25</td>\n",
       "      <td>0</td>\n",
       "      <td>92.4064</td>\n",
       "    </tr>\n",
       "    <tr>\n",
       "      <th>1</th>\n",
       "      <td>601.7464</td>\n",
       "      <td>25</td>\n",
       "      <td>0</td>\n",
       "      <td>93.1177</td>\n",
       "    </tr>\n",
       "    <tr>\n",
       "      <th>2</th>\n",
       "      <td>603.6751</td>\n",
       "      <td>25</td>\n",
       "      <td>0</td>\n",
       "      <td>93.3507</td>\n",
       "    </tr>\n",
       "    <tr>\n",
       "      <th>3</th>\n",
       "      <td>605.6037</td>\n",
       "      <td>25</td>\n",
       "      <td>0</td>\n",
       "      <td>93.2874</td>\n",
       "    </tr>\n",
       "    <tr>\n",
       "      <th>4</th>\n",
       "      <td>607.5324</td>\n",
       "      <td>25</td>\n",
       "      <td>0</td>\n",
       "      <td>93.8345</td>\n",
       "    </tr>\n",
       "    <tr>\n",
       "      <th>...</th>\n",
       "      <td>...</td>\n",
       "      <td>...</td>\n",
       "      <td>...</td>\n",
       "      <td>...</td>\n",
       "    </tr>\n",
       "    <tr>\n",
       "      <th>61735</th>\n",
       "      <td>3992.3559</td>\n",
       "      <td>420</td>\n",
       "      <td>660</td>\n",
       "      <td>99.9956</td>\n",
       "    </tr>\n",
       "    <tr>\n",
       "      <th>61736</th>\n",
       "      <td>3994.2846</td>\n",
       "      <td>420</td>\n",
       "      <td>660</td>\n",
       "      <td>99.8334</td>\n",
       "    </tr>\n",
       "    <tr>\n",
       "      <th>61737</th>\n",
       "      <td>3996.2132</td>\n",
       "      <td>420</td>\n",
       "      <td>660</td>\n",
       "      <td>99.8121</td>\n",
       "    </tr>\n",
       "    <tr>\n",
       "      <th>61738</th>\n",
       "      <td>3998.1419</td>\n",
       "      <td>420</td>\n",
       "      <td>660</td>\n",
       "      <td>99.8471</td>\n",
       "    </tr>\n",
       "    <tr>\n",
       "      <th>61739</th>\n",
       "      <td>4000.0706</td>\n",
       "      <td>420</td>\n",
       "      <td>660</td>\n",
       "      <td>99.8816</td>\n",
       "    </tr>\n",
       "  </tbody>\n",
       "</table>\n",
       "<p>61740 rows × 4 columns</p>\n",
       "</div>"
      ],
      "text/plain": [
       "            wave  temp  time  intensity\n",
       "0       599.8177    25     0    92.4064\n",
       "1       601.7464    25     0    93.1177\n",
       "2       603.6751    25     0    93.3507\n",
       "3       605.6037    25     0    93.2874\n",
       "4       607.5324    25     0    93.8345\n",
       "...          ...   ...   ...        ...\n",
       "61735  3992.3559   420   660    99.9956\n",
       "61736  3994.2846   420   660    99.8334\n",
       "61737  3996.2132   420   660    99.8121\n",
       "61738  3998.1419   420   660    99.8471\n",
       "61739  4000.0706   420   660    99.8816\n",
       "\n",
       "[61740 rows x 4 columns]"
      ]
     },
     "execution_count": 4,
     "metadata": {},
     "output_type": "execute_result"
    }
   ],
   "source": [
    "df = pd.read_csv(\"input/processed_input.csv\", index_col = None)\n",
    "#df = df.drop(columns = 'Unnamed: 0')\n",
    "df"
   ]
  },
  {
   "cell_type": "code",
   "execution_count": 10,
   "metadata": {},
   "outputs": [],
   "source": [
    "def test_train_compound(df):\n",
    "    \"\"\"\n",
    "    Function to split test/train data for each compound\n",
    "    \n",
    "    Argument:\n",
    "        df      : pandas dataframe\n",
    "        \n",
    "    Output:\n",
    "        X_train, X_test, y_train, y_test : 4 pandas dataframe which have the split data \n",
    "    \"\"\"\n",
    "    \n",
    "    X_train, X_test, y_train, y_test = train_test_split(df[[\"wave\", \"temp\", \"time\"]], df[\"intensity\"], test_size=0.2, random_state=7)\n",
    "    return X_train, X_test, y_train, y_test"
   ]
  },
  {
   "cell_type": "code",
   "execution_count": 5,
   "metadata": {},
   "outputs": [
    {
     "data": {
      "text/html": [
       "<div>\n",
       "<style scoped>\n",
       "    .dataframe tbody tr th:only-of-type {\n",
       "        vertical-align: middle;\n",
       "    }\n",
       "\n",
       "    .dataframe tbody tr th {\n",
       "        vertical-align: top;\n",
       "    }\n",
       "\n",
       "    .dataframe thead th {\n",
       "        text-align: right;\n",
       "    }\n",
       "</style>\n",
       "<table border=\"1\" class=\"dataframe\">\n",
       "  <thead>\n",
       "    <tr style=\"text-align: right;\">\n",
       "      <th></th>\n",
       "      <th>Model</th>\n",
       "      <th>Compound</th>\n",
       "      <th>Train Accuracy</th>\n",
       "      <th>Test Accuracy</th>\n",
       "    </tr>\n",
       "  </thead>\n",
       "  <tbody>\n",
       "  </tbody>\n",
       "</table>\n",
       "</div>"
      ],
      "text/plain": [
       "Empty DataFrame\n",
       "Columns: [Model, Compound, Train Accuracy, Test Accuracy]\n",
       "Index: []"
      ]
     },
     "execution_count": 5,
     "metadata": {},
     "output_type": "execute_result"
    }
   ],
   "source": [
    "df_results = pd.DataFrame({'Model': [],\n",
    "                           'Compound' : [],\n",
    "                           'Train Accuracy': [],\n",
    "                           'Test Accuracy' : []\n",
    "                           })\n",
    "df_results"
   ]
  },
  {
   "cell_type": "code",
   "execution_count": 6,
   "metadata": {},
   "outputs": [
    {
     "data": {
      "text/html": [
       "<div>\n",
       "<style scoped>\n",
       "    .dataframe tbody tr th:only-of-type {\n",
       "        vertical-align: middle;\n",
       "    }\n",
       "\n",
       "    .dataframe tbody tr th {\n",
       "        vertical-align: top;\n",
       "    }\n",
       "\n",
       "    .dataframe thead th {\n",
       "        text-align: right;\n",
       "    }\n",
       "</style>\n",
       "<table border=\"1\" class=\"dataframe\">\n",
       "  <thead>\n",
       "    <tr style=\"text-align: right;\">\n",
       "      <th></th>\n",
       "      <th>Model</th>\n",
       "      <th>Compound</th>\n",
       "      <th>Train Accuracy</th>\n",
       "      <th>Test Accuracy</th>\n",
       "    </tr>\n",
       "  </thead>\n",
       "  <tbody>\n",
       "  </tbody>\n",
       "</table>\n",
       "</div>"
      ],
      "text/plain": [
       "Empty DataFrame\n",
       "Columns: [Model, Compound, Train Accuracy, Test Accuracy]\n",
       "Index: []"
      ]
     },
     "execution_count": 6,
     "metadata": {},
     "output_type": "execute_result"
    }
   ],
   "source": [
    "df_results"
   ]
  },
  {
   "cell_type": "markdown",
   "metadata": {},
   "source": [
    "## Summary"
   ]
  },
  {
   "cell_type": "markdown",
   "metadata": {},
   "source": [
    "## Linear Modelling"
   ]
  },
  {
   "cell_type": "code",
   "execution_count": 15,
   "metadata": {},
   "outputs": [
    {
     "name": "stdout",
     "output_type": "stream",
     "text": [
      "The 4 matrices are of sizes:  (49392, 3) (12348, 3) (49392,) (12348,)\n",
      "The training accuracy for the model is  0.09684180206957416\n",
      "The testing accuracy for the model is  0.09189078520597693\n"
     ]
    }
   ],
   "source": [
    "def linear_model(df):\n",
    "    X_train, X_test, y_train, y_test = test_train_compound(df)\n",
    "    print(\"The 4 matrices are of sizes: \", X_train.shape, X_test.shape, y_train.shape, y_test.shape)\n",
    "    lr = LinearRegression().fit(X_train, y_train)\n",
    "    \n",
    "    \n",
    "    df_pred = df.copy()\n",
    "    df_pred['predicted_intensity'] = lr.predict(df[[\"wave\", \"temp\", \"time\"]])\n",
    "    df_pred.to_csv('output/scenario1/prediction_lr.csv')\n",
    "    \n",
    "    \n",
    "    print(\"The training accuracy for the model is \", lr.score(X_train, y_train))\n",
    "    print(\"The testing accuracy for the model is \", lr.score(X_test, y_test))\n",
    "    return pd.DataFrame({'Model': 'Linear Regression',\n",
    "                           'Train Accuracy': lr.score(X_train, y_train),\n",
    "                           'Test Accuracy' : lr.score(X_test, y_test)}, index = [None])\n",
    "    \n",
    "df_results = df_results.append(linear_model(df))"
   ]
  },
  {
   "cell_type": "markdown",
   "metadata": {},
   "source": [
    "## PLSR"
   ]
  },
  {
   "cell_type": "code",
   "execution_count": 17,
   "metadata": {},
   "outputs": [
    {
     "name": "stdout",
     "output_type": "stream",
     "text": [
      "The 4 matrices are of sizes:  (49392, 3) (12348, 3) (49392,) (12348,)\n",
      "The training accuracy for the model is  0.09683994577695632\n",
      "The testing accuracy for the model is  0.0918813508836619\n"
     ]
    }
   ],
   "source": [
    "def pls2(df):\n",
    "    X_train, X_test, y_train, y_test = test_train_compound(df)\n",
    "    print(\"The 4 matrices are of sizes: \", X_train.shape, X_test.shape, y_train.shape, y_test.shape)\n",
    "    pls2 = PLSRegression(n_components=2).fit(X_train, y_train)\n",
    "    \n",
    "    \n",
    "    df_pred = df.copy()\n",
    "    df_pred['predicted_wt'] = pls2.predict(df[[\"wave\", \"temp\", \"time\"]])\n",
    "    df_pred.to_csv('output/scenario1/prediction_plsr2.csv')\n",
    "    \n",
    "    \n",
    "    print(\"The training accuracy for the model is \", pls2.score(X_train, y_train))\n",
    "    print(\"The testing accuracy for the model is \", pls2.score(X_test, y_test))\n",
    "    return pd.DataFrame({'Model': 'Partial Least Squares (n=2)',\n",
    "                           'Train Accuracy': pls2.score(X_train, y_train),\n",
    "                           'Test Accuracy' : pls2.score(X_test, y_test)}, index = [None])\n",
    "\n",
    "\n",
    "df_results = df_results.append(pls2(df))"
   ]
  },
  {
   "cell_type": "code",
   "execution_count": 18,
   "metadata": {},
   "outputs": [
    {
     "data": {
      "text/html": [
       "<div>\n",
       "<style scoped>\n",
       "    .dataframe tbody tr th:only-of-type {\n",
       "        vertical-align: middle;\n",
       "    }\n",
       "\n",
       "    .dataframe tbody tr th {\n",
       "        vertical-align: top;\n",
       "    }\n",
       "\n",
       "    .dataframe thead th {\n",
       "        text-align: right;\n",
       "    }\n",
       "</style>\n",
       "<table border=\"1\" class=\"dataframe\">\n",
       "  <thead>\n",
       "    <tr style=\"text-align: right;\">\n",
       "      <th></th>\n",
       "      <th>Model</th>\n",
       "      <th>Compound</th>\n",
       "      <th>Train Accuracy</th>\n",
       "      <th>Test Accuracy</th>\n",
       "    </tr>\n",
       "  </thead>\n",
       "  <tbody>\n",
       "    <tr>\n",
       "      <th>NaN</th>\n",
       "      <td>Linear Regression</td>\n",
       "      <td>NaN</td>\n",
       "      <td>0.096842</td>\n",
       "      <td>0.091891</td>\n",
       "    </tr>\n",
       "    <tr>\n",
       "      <th>NaN</th>\n",
       "      <td>Partial Least Squares (n=2)</td>\n",
       "      <td>NaN</td>\n",
       "      <td>0.096840</td>\n",
       "      <td>0.091881</td>\n",
       "    </tr>\n",
       "  </tbody>\n",
       "</table>\n",
       "</div>"
      ],
      "text/plain": [
       "                           Model  Compound  Train Accuracy  Test Accuracy\n",
       "NaN            Linear Regression       NaN        0.096842       0.091891\n",
       "NaN  Partial Least Squares (n=2)       NaN        0.096840       0.091881"
      ]
     },
     "execution_count": 18,
     "metadata": {},
     "output_type": "execute_result"
    }
   ],
   "source": [
    "df_results"
   ]
  },
  {
   "cell_type": "code",
   "execution_count": 20,
   "metadata": {},
   "outputs": [
    {
     "name": "stdout",
     "output_type": "stream",
     "text": [
      "The 4 matrices are of sizes:  (49392, 3) (12348, 3) (49392,) (12348,)\n",
      "The training accuracy for the model is  0.09684180206957416\n",
      "The testing accuracy for the model is  0.09189078520597693\n"
     ]
    }
   ],
   "source": [
    "def pls3(df):\n",
    "    X_train, X_test, y_train, y_test = test_train_compound(df)\n",
    "    print(\"The 4 matrices are of sizes: \", X_train.shape, X_test.shape, y_train.shape, y_test.shape)\n",
    "    pls3 = PLSRegression(n_components=3).fit(X_train, y_train)\n",
    "    \n",
    "    \n",
    "    df_pred = df.copy()\n",
    "    df_pred['predicted_wt'] = pls3.predict(df[[\"wave\", \"temp\", \"time\"]])\n",
    "    df_pred.to_csv('output/scenario1/prediction_plsr3.csv')\n",
    "    \n",
    "    \n",
    "    print(\"The training accuracy for the model is \", pls3.score(X_train, y_train))\n",
    "    print(\"The testing accuracy for the model is \", pls3.score(X_test, y_test))\n",
    "    return pd.DataFrame({'Model': 'Partial Least Squares (n=3)',\n",
    "                           'Train Accuracy': pls3.score(X_train, y_train),\n",
    "                           'Test Accuracy' : pls3.score(X_test, y_test)}, index = [None])\n",
    "\n",
    "\n",
    "df_results = df_results.append(pls3(df))"
   ]
  },
  {
   "cell_type": "markdown",
   "metadata": {},
   "source": [
    "## Random forest"
   ]
  },
  {
   "cell_type": "code",
   "execution_count": 22,
   "metadata": {},
   "outputs": [
    {
     "name": "stdout",
     "output_type": "stream",
     "text": [
      "The 4 matrices are of sizes:  (49392, 3) (12348, 3) (49392,) (12348,)\n",
      "The training accuracy for the model is  0.46038857707645175\n",
      "The testing accuracy for the model is  0.46732680766098056\n"
     ]
    }
   ],
   "source": [
    "def random_forest(df):\n",
    "    X_train, X_test, y_train, y_test = test_train_compound(df)\n",
    "    print(\"The 4 matrices are of sizes: \", X_train.shape, X_test.shape, y_train.shape, y_test.shape)\n",
    "    rf2 = RandomForestRegressor(random_state=0, max_depth = 2).fit(X_train, y_train)\n",
    "    \n",
    "    \n",
    "    df_pred = df.copy()\n",
    "    df_pred['predicted_wt'] = rf2.predict(df[[\"wave\", \"temp\", \"time\"]])\n",
    "    df_pred.to_csv('output/scenario1/prediction_rf2.csv')\n",
    "    \n",
    "    \n",
    "    print(\"The training accuracy for the model is \", rf2.score(X_train, y_train))\n",
    "    print(\"The testing accuracy for the model is \", rf2.score(X_test, y_test))\n",
    "    \n",
    "    return pd.DataFrame({'Model': 'Random Forest Regression (max_depth = 2)',\n",
    "                           'Train Accuracy': rf2.score(X_train, y_train),\n",
    "                           'Test Accuracy' : rf2.score(X_test, y_test)}, index=[None])\n",
    "\n",
    "df_results = df_results.append(random_forest(df))"
   ]
  },
  {
   "cell_type": "code",
   "execution_count": 23,
   "metadata": {},
   "outputs": [
    {
     "name": "stdout",
     "output_type": "stream",
     "text": [
      "The 4 matrices are of sizes:  (49392, 3) (12348, 3) (49392,) (12348,)\n",
      "The training accuracy for the model is  0.8711613932091622\n",
      "The testing accuracy for the model is  0.8668392796802826\n"
     ]
    }
   ],
   "source": [
    "def random_forest(df):\n",
    "    X_train, X_test, y_train, y_test = test_train_compound(df)\n",
    "    print(\"The 4 matrices are of sizes: \", X_train.shape, X_test.shape, y_train.shape, y_test.shape)\n",
    "    rf5 = RandomForestRegressor(random_state=0, max_depth = 5).fit(X_train, y_train)\n",
    "    \n",
    "    \n",
    "    df_pred = df.copy()\n",
    "    df_pred['predicted_wt'] = rf5.predict(df[[\"wave\", \"temp\", \"time\"]])\n",
    "    df_pred.to_csv('output/scenario1/prediction_rf5.csv')\n",
    "    \n",
    "    \n",
    "    print(\"The training accuracy for the model is \", rf5.score(X_train, y_train))\n",
    "    print(\"The testing accuracy for the model is \", rf5.score(X_test, y_test))\n",
    "    \n",
    "    return pd.DataFrame({'Model': 'Random Forest Regression (max_depth = 5)',\n",
    "                           'Train Accuracy': rf5.score(X_train, y_train),\n",
    "                           'Test Accuracy' : rf5.score(X_test, y_test)}, index=[None])\n",
    "\n",
    "df_results = df_results.append(random_forest(df))"
   ]
  },
  {
   "cell_type": "code",
   "execution_count": 24,
   "metadata": {},
   "outputs": [
    {
     "name": "stdout",
     "output_type": "stream",
     "text": [
      "The 4 matrices are of sizes:  (49392, 3) (12348, 3) (49392,) (12348,)\n",
      "The training accuracy for the model is  0.9375240083984895\n",
      "The testing accuracy for the model is  0.9378227204824799\n"
     ]
    }
   ],
   "source": [
    "def random_forest(df):\n",
    "    X_train, X_test, y_train, y_test = test_train_compound(df)\n",
    "    print(\"The 4 matrices are of sizes: \", X_train.shape, X_test.shape, y_train.shape, y_test.shape)\n",
    "    rf7 = RandomForestRegressor(random_state=0, max_depth = 7).fit(X_train, y_train)\n",
    "    \n",
    "    \n",
    "    df_pred = df.copy()\n",
    "    df_pred['predicted_wt'] = rf7.predict(df[[\"wave\", \"temp\", \"time\"]])\n",
    "    df_pred.to_csv('output/scenario1/prediction_rf7.csv')\n",
    "    \n",
    "    \n",
    "    print(\"The training accuracy for the model is \", rf7.score(X_train, y_train))\n",
    "    print(\"The testing accuracy for the model is \", rf7.score(X_test, y_test))\n",
    "    \n",
    "    return pd.DataFrame({'Model': 'Random Forest Regression (max_depth = 7)',\n",
    "                           'Train Accuracy': rf7.score(X_train, y_train),\n",
    "                           'Test Accuracy' : rf7.score(X_test, y_test)}, index=[None])\n",
    "\n",
    "df_results = df_results.append(random_forest(df))"
   ]
  },
  {
   "cell_type": "code",
   "execution_count": 25,
   "metadata": {},
   "outputs": [
    {
     "name": "stdout",
     "output_type": "stream",
     "text": [
      "The 4 matrices are of sizes:  (49392, 3) (12348, 3) (49392,) (12348,)\n",
      "The training accuracy for the model is  0.9737881271812486\n",
      "The testing accuracy for the model is  0.9728186499979998\n"
     ]
    }
   ],
   "source": [
    "def random_forest(df):\n",
    "    X_train, X_test, y_train, y_test = test_train_compound(df)\n",
    "    print(\"The 4 matrices are of sizes: \", X_train.shape, X_test.shape, y_train.shape, y_test.shape)\n",
    "    rf10 = RandomForestRegressor(random_state=0, max_depth = 10).fit(X_train, y_train)\n",
    "    \n",
    "    \n",
    "    df_pred = df.copy()\n",
    "    df_pred['predicted_wt'] = rf10.predict(df[[\"wave\", \"temp\", \"time\"]])\n",
    "    df_pred.to_csv('output/scenario1/prediction_rf10.csv')\n",
    "    \n",
    "    \n",
    "    print(\"The training accuracy for the model is \", rf10.score(X_train, y_train))\n",
    "    print(\"The testing accuracy for the model is \", rf10.score(X_test, y_test))\n",
    "    \n",
    "    return pd.DataFrame({'Model': 'Random Forest Regression (max_depth = 10)',\n",
    "                           'Train Accuracy': rf10.score(X_train, y_train),\n",
    "                           'Test Accuracy' : rf10.score(X_test, y_test)}, index=[None])\n",
    "\n",
    "df_results = df_results.append(random_forest(df))"
   ]
  },
  {
   "cell_type": "code",
   "execution_count": 26,
   "metadata": {},
   "outputs": [
    {
     "name": "stdout",
     "output_type": "stream",
     "text": [
      "The 4 matrices are of sizes:  (49392, 3) (12348, 3) (49392,) (12348,)\n",
      "The training accuracy for the model is  0.9950617377184643\n",
      "The testing accuracy for the model is  0.9911949329115028\n"
     ]
    }
   ],
   "source": [
    "def random_forest(df):\n",
    "    X_train, X_test, y_train, y_test = test_train_compound(df)\n",
    "    print(\"The 4 matrices are of sizes: \", X_train.shape, X_test.shape, y_train.shape, y_test.shape)\n",
    "    rf15 = RandomForestRegressor(random_state=0, max_depth = 15).fit(X_train, y_train)\n",
    "    \n",
    "    \n",
    "    df_pred = df.copy()\n",
    "    df_pred['predicted_wt'] = rf15.predict(df[[\"wave\", \"temp\", \"time\"]])\n",
    "    df_pred.to_csv('output/scenario1/prediction_rf15.csv')\n",
    "    \n",
    "    \n",
    "    print(\"The training accuracy for the model is \", rf15.score(X_train, y_train))\n",
    "    print(\"The testing accuracy for the model is \", rf15.score(X_test, y_test))\n",
    "    \n",
    "    return pd.DataFrame({'Model': 'Random Forest Regression (max_depth = 15)',\n",
    "                           'Train Accuracy': rf15.score(X_train, y_train),\n",
    "                           'Test Accuracy' : rf15.score(X_test, y_test)}, index=[None])\n",
    "\n",
    "df_results = df_results.append(random_forest(df))"
   ]
  },
  {
   "cell_type": "code",
   "execution_count": 28,
   "metadata": {},
   "outputs": [
    {
     "data": {
      "application/vnd.vegalite.v3+json": {
       "$schema": "https://vega.github.io/schema/vega-lite/v3.4.0.json",
       "columns": 3,
       "config": {
        "mark": {
         "tooltip": null
        },
        "view": {
         "height": 300,
         "width": 400
        }
       },
       "data": {
        "name": "data-a6bf4bae65d7b4fb9774ffb5a68a84f4"
       },
       "datasets": {
        "data-a6bf4bae65d7b4fb9774ffb5a68a84f4": [
         {
          "Accuracy": 0.9283033402562781,
          "Type": "training",
          "max_depth": 7,
          "n_estimator": 1
         },
         {
          "Accuracy": 0.9304403794813815,
          "Type": "training",
          "max_depth": 7,
          "n_estimator": 2
         },
         {
          "Accuracy": 0.9333487488835268,
          "Type": "training",
          "max_depth": 7,
          "n_estimator": 3
         },
         {
          "Accuracy": 0.9335972902656706,
          "Type": "training",
          "max_depth": 7,
          "n_estimator": 5
         },
         {
          "Accuracy": 0.9367194835091546,
          "Type": "training",
          "max_depth": 7,
          "n_estimator": 10
         },
         {
          "Accuracy": 0.937124969728391,
          "Type": "training",
          "max_depth": 7,
          "n_estimator": 20
         },
         {
          "Accuracy": 0.936728735692334,
          "Type": "training",
          "max_depth": 7,
          "n_estimator": 30
         },
         {
          "Accuracy": 0.9367226540182152,
          "Type": "training",
          "max_depth": 7,
          "n_estimator": 50
         },
         {
          "Accuracy": 0.9375240083984895,
          "Type": "training",
          "max_depth": 7,
          "n_estimator": 100
         },
         {
          "Accuracy": 0.9452689364859606,
          "Type": "training",
          "max_depth": 8,
          "n_estimator": 1
         },
         {
          "Accuracy": 0.9479442621471248,
          "Type": "training",
          "max_depth": 8,
          "n_estimator": 2
         },
         {
          "Accuracy": 0.9498812692032774,
          "Type": "training",
          "max_depth": 8,
          "n_estimator": 3
         },
         {
          "Accuracy": 0.9497612932770447,
          "Type": "training",
          "max_depth": 8,
          "n_estimator": 5
         },
         {
          "Accuracy": 0.9515870119155122,
          "Type": "training",
          "max_depth": 8,
          "n_estimator": 10
         },
         {
          "Accuracy": 0.9518334525893763,
          "Type": "training",
          "max_depth": 8,
          "n_estimator": 20
         },
         {
          "Accuracy": 0.9515014377717361,
          "Type": "training",
          "max_depth": 8,
          "n_estimator": 30
         },
         {
          "Accuracy": 0.9516173237371042,
          "Type": "training",
          "max_depth": 8,
          "n_estimator": 50
         },
         {
          "Accuracy": 0.9522971832151522,
          "Type": "training",
          "max_depth": 8,
          "n_estimator": 100
         },
         {
          "Accuracy": 0.9602010139488887,
          "Type": "training",
          "max_depth": 9,
          "n_estimator": 1
         },
         {
          "Accuracy": 0.962879746741117,
          "Type": "training",
          "max_depth": 9,
          "n_estimator": 2
         },
         {
          "Accuracy": 0.9642536634309481,
          "Type": "training",
          "max_depth": 9,
          "n_estimator": 3
         },
         {
          "Accuracy": 0.9645140947418931,
          "Type": "training",
          "max_depth": 9,
          "n_estimator": 5
         },
         {
          "Accuracy": 0.9661252324626096,
          "Type": "training",
          "max_depth": 9,
          "n_estimator": 10
         },
         {
          "Accuracy": 0.9664397712463089,
          "Type": "training",
          "max_depth": 9,
          "n_estimator": 20
         },
         {
          "Accuracy": 0.9663407045630455,
          "Type": "training",
          "max_depth": 9,
          "n_estimator": 30
         },
         {
          "Accuracy": 0.9663617455824945,
          "Type": "training",
          "max_depth": 9,
          "n_estimator": 50
         },
         {
          "Accuracy": 0.9669324239764571,
          "Type": "training",
          "max_depth": 9,
          "n_estimator": 100
         },
         {
          "Accuracy": 0.9669325220092894,
          "Type": "training",
          "max_depth": 10,
          "n_estimator": 1
         },
         {
          "Accuracy": 0.9695686237590283,
          "Type": "training",
          "max_depth": 10,
          "n_estimator": 2
         },
         {
          "Accuracy": 0.9711718450050375,
          "Type": "training",
          "max_depth": 10,
          "n_estimator": 3
         },
         {
          "Accuracy": 0.9713808730164158,
          "Type": "training",
          "max_depth": 10,
          "n_estimator": 5
         },
         {
          "Accuracy": 0.972885031171902,
          "Type": "training",
          "max_depth": 10,
          "n_estimator": 10
         },
         {
          "Accuracy": 0.973282363293278,
          "Type": "training",
          "max_depth": 10,
          "n_estimator": 20
         },
         {
          "Accuracy": 0.9730182250410834,
          "Type": "training",
          "max_depth": 10,
          "n_estimator": 30
         },
         {
          "Accuracy": 0.9731915709355816,
          "Type": "training",
          "max_depth": 10,
          "n_estimator": 50
         },
         {
          "Accuracy": 0.9737881271812486,
          "Type": "training",
          "max_depth": 10,
          "n_estimator": 100
         },
         {
          "Accuracy": 0.9736124657628984,
          "Type": "training",
          "max_depth": 11,
          "n_estimator": 1
         },
         {
          "Accuracy": 0.9763400137028206,
          "Type": "training",
          "max_depth": 11,
          "n_estimator": 2
         },
         {
          "Accuracy": 0.9780360880794745,
          "Type": "training",
          "max_depth": 11,
          "n_estimator": 3
         },
         {
          "Accuracy": 0.9781211303397025,
          "Type": "training",
          "max_depth": 11,
          "n_estimator": 5
         },
         {
          "Accuracy": 0.9796943091218706,
          "Type": "training",
          "max_depth": 11,
          "n_estimator": 10
         },
         {
          "Accuracy": 0.980397661629073,
          "Type": "training",
          "max_depth": 11,
          "n_estimator": 20
         },
         {
          "Accuracy": 0.9801399859462017,
          "Type": "training",
          "max_depth": 11,
          "n_estimator": 30
         },
         {
          "Accuracy": 0.9803579321991599,
          "Type": "training",
          "max_depth": 11,
          "n_estimator": 50
         },
         {
          "Accuracy": 0.9808975321085869,
          "Type": "training",
          "max_depth": 11,
          "n_estimator": 100
         },
         {
          "Accuracy": 0.981365548850915,
          "Type": "training",
          "max_depth": 12,
          "n_estimator": 1
         },
         {
          "Accuracy": 0.9836316723138365,
          "Type": "training",
          "max_depth": 12,
          "n_estimator": 2
         },
         {
          "Accuracy": 0.9844270069114701,
          "Type": "training",
          "max_depth": 12,
          "n_estimator": 3
         },
         {
          "Accuracy": 0.9848430011136026,
          "Type": "training",
          "max_depth": 12,
          "n_estimator": 5
         },
         {
          "Accuracy": 0.9861709941586403,
          "Type": "training",
          "max_depth": 12,
          "n_estimator": 10
         },
         {
          "Accuracy": 0.9864025781766154,
          "Type": "training",
          "max_depth": 12,
          "n_estimator": 20
         },
         {
          "Accuracy": 0.9863550654589968,
          "Type": "training",
          "max_depth": 12,
          "n_estimator": 30
         },
         {
          "Accuracy": 0.9864845496932599,
          "Type": "training",
          "max_depth": 12,
          "n_estimator": 50
         },
         {
          "Accuracy": 0.9868146655767317,
          "Type": "training",
          "max_depth": 12,
          "n_estimator": 100
         },
         {
          "Accuracy": 0.9857766522487007,
          "Type": "training",
          "max_depth": 13,
          "n_estimator": 1
         },
         {
          "Accuracy": 0.9875803259954954,
          "Type": "training",
          "max_depth": 13,
          "n_estimator": 2
         },
         {
          "Accuracy": 0.9884423953052197,
          "Type": "training",
          "max_depth": 13,
          "n_estimator": 3
         },
         {
          "Accuracy": 0.9891015117125247,
          "Type": "training",
          "max_depth": 13,
          "n_estimator": 5
         },
         {
          "Accuracy": 0.9900182086348402,
          "Type": "training",
          "max_depth": 13,
          "n_estimator": 10
         },
         {
          "Accuracy": 0.9901149394496619,
          "Type": "training",
          "max_depth": 13,
          "n_estimator": 20
         },
         {
          "Accuracy": 0.990191649291645,
          "Type": "training",
          "max_depth": 13,
          "n_estimator": 30
         },
         {
          "Accuracy": 0.9902848317425237,
          "Type": "training",
          "max_depth": 13,
          "n_estimator": 50
         },
         {
          "Accuracy": 0.9905265933443417,
          "Type": "training",
          "max_depth": 13,
          "n_estimator": 100
         },
         {
          "Accuracy": 0.9887589888440362,
          "Type": "training",
          "max_depth": 14,
          "n_estimator": 1
         },
         {
          "Accuracy": 0.9904650433795736,
          "Type": "training",
          "max_depth": 14,
          "n_estimator": 2
         },
         {
          "Accuracy": 0.9912342886226494,
          "Type": "training",
          "max_depth": 14,
          "n_estimator": 3
         },
         {
          "Accuracy": 0.9920535755708011,
          "Type": "training",
          "max_depth": 14,
          "n_estimator": 5
         },
         {
          "Accuracy": 0.9928385956907471,
          "Type": "training",
          "max_depth": 14,
          "n_estimator": 10
         },
         {
          "Accuracy": 0.9930388250245279,
          "Type": "training",
          "max_depth": 14,
          "n_estimator": 20
         },
         {
          "Accuracy": 0.9931044769556248,
          "Type": "training",
          "max_depth": 14,
          "n_estimator": 30
         },
         {
          "Accuracy": 0.9931726812338314,
          "Type": "training",
          "max_depth": 14,
          "n_estimator": 50
         },
         {
          "Accuracy": 0.9933015468707136,
          "Type": "training",
          "max_depth": 14,
          "n_estimator": 100
         },
         {
          "Accuracy": 0.9910157032845427,
          "Type": "training",
          "max_depth": 15,
          "n_estimator": 1
         },
         {
          "Accuracy": 0.9926238156398051,
          "Type": "training",
          "max_depth": 15,
          "n_estimator": 2
         },
         {
          "Accuracy": 0.9933350399109456,
          "Type": "training",
          "max_depth": 15,
          "n_estimator": 3
         },
         {
          "Accuracy": 0.994039797137861,
          "Type": "training",
          "max_depth": 15,
          "n_estimator": 5
         },
         {
          "Accuracy": 0.9947106700951193,
          "Type": "training",
          "max_depth": 15,
          "n_estimator": 10
         },
         {
          "Accuracy": 0.9948926142422075,
          "Type": "training",
          "max_depth": 15,
          "n_estimator": 20
         },
         {
          "Accuracy": 0.9949223930521347,
          "Type": "training",
          "max_depth": 15,
          "n_estimator": 30
         },
         {
          "Accuracy": 0.9949846571904708,
          "Type": "training",
          "max_depth": 15,
          "n_estimator": 50
         },
         {
          "Accuracy": 0.9950617377184643,
          "Type": "training",
          "max_depth": 15,
          "n_estimator": 100
         },
         {
          "Accuracy": 0.9923820020711808,
          "Type": "training",
          "max_depth": 16,
          "n_estimator": 1
         },
         {
          "Accuracy": 0.9939172230490766,
          "Type": "training",
          "max_depth": 16,
          "n_estimator": 2
         },
         {
          "Accuracy": 0.9947344432239827,
          "Type": "training",
          "max_depth": 16,
          "n_estimator": 3
         },
         {
          "Accuracy": 0.9953859085341031,
          "Type": "training",
          "max_depth": 16,
          "n_estimator": 5
         },
         {
          "Accuracy": 0.9959752275316752,
          "Type": "training",
          "max_depth": 16,
          "n_estimator": 10
         },
         {
          "Accuracy": 0.9961724609946231,
          "Type": "training",
          "max_depth": 16,
          "n_estimator": 20
         },
         {
          "Accuracy": 0.9962128900503685,
          "Type": "training",
          "max_depth": 16,
          "n_estimator": 30
         },
         {
          "Accuracy": 0.9962846729265594,
          "Type": "training",
          "max_depth": 16,
          "n_estimator": 50
         },
         {
          "Accuracy": 0.9963476100421793,
          "Type": "training",
          "max_depth": 16,
          "n_estimator": 100
         },
         {
          "Accuracy": 0.9935244846209037,
          "Type": "training",
          "max_depth": 17,
          "n_estimator": 1
         },
         {
          "Accuracy": 0.9950601479485042,
          "Type": "training",
          "max_depth": 17,
          "n_estimator": 2
         },
         {
          "Accuracy": 0.9957214418564276,
          "Type": "training",
          "max_depth": 17,
          "n_estimator": 3
         },
         {
          "Accuracy": 0.9964095181783111,
          "Type": "training",
          "max_depth": 17,
          "n_estimator": 5
         },
         {
          "Accuracy": 0.9969104256135909,
          "Type": "training",
          "max_depth": 17,
          "n_estimator": 10
         },
         {
          "Accuracy": 0.9971276657100573,
          "Type": "training",
          "max_depth": 17,
          "n_estimator": 20
         },
         {
          "Accuracy": 0.9971616643829765,
          "Type": "training",
          "max_depth": 17,
          "n_estimator": 30
         },
         {
          "Accuracy": 0.9972308733883227,
          "Type": "training",
          "max_depth": 17,
          "n_estimator": 50
         },
         {
          "Accuracy": 0.997278854012351,
          "Type": "training",
          "max_depth": 17,
          "n_estimator": 100
         },
         {
          "Accuracy": 0.9289878261205224,
          "Type": "testing",
          "max_depth": 7,
          "n_estimator": 1
         },
         {
          "Accuracy": 0.9307674803947407,
          "Type": "testing",
          "max_depth": 7,
          "n_estimator": 2
         },
         {
          "Accuracy": 0.9338354453129595,
          "Type": "testing",
          "max_depth": 7,
          "n_estimator": 3
         },
         {
          "Accuracy": 0.934259723232738,
          "Type": "testing",
          "max_depth": 7,
          "n_estimator": 5
         },
         {
          "Accuracy": 0.9368919638437576,
          "Type": "testing",
          "max_depth": 7,
          "n_estimator": 10
         },
         {
          "Accuracy": 0.9373735476912302,
          "Type": "testing",
          "max_depth": 7,
          "n_estimator": 20
         },
         {
          "Accuracy": 0.9371562309253166,
          "Type": "testing",
          "max_depth": 7,
          "n_estimator": 30
         },
         {
          "Accuracy": 0.9371561806044086,
          "Type": "testing",
          "max_depth": 7,
          "n_estimator": 50
         },
         {
          "Accuracy": 0.9378227204824799,
          "Type": "testing",
          "max_depth": 7,
          "n_estimator": 100
         },
         {
          "Accuracy": 0.9449970945606683,
          "Type": "testing",
          "max_depth": 8,
          "n_estimator": 1
         },
         {
          "Accuracy": 0.9475421681746522,
          "Type": "testing",
          "max_depth": 8,
          "n_estimator": 2
         },
         {
          "Accuracy": 0.9499269142911219,
          "Type": "testing",
          "max_depth": 8,
          "n_estimator": 3
         },
         {
          "Accuracy": 0.94952978534235,
          "Type": "testing",
          "max_depth": 8,
          "n_estimator": 5
         },
         {
          "Accuracy": 0.9512407247084986,
          "Type": "testing",
          "max_depth": 8,
          "n_estimator": 10
         },
         {
          "Accuracy": 0.951722780018499,
          "Type": "testing",
          "max_depth": 8,
          "n_estimator": 20
         },
         {
          "Accuracy": 0.9513628506265593,
          "Type": "testing",
          "max_depth": 8,
          "n_estimator": 30
         },
         {
          "Accuracy": 0.9514819174925625,
          "Type": "testing",
          "max_depth": 8,
          "n_estimator": 50
         },
         {
          "Accuracy": 0.9520492629227467,
          "Type": "testing",
          "max_depth": 8,
          "n_estimator": 100
         },
         {
          "Accuracy": 0.9592047943247919,
          "Type": "testing",
          "max_depth": 9,
          "n_estimator": 1
         },
         {
          "Accuracy": 0.9620838018778711,
          "Type": "testing",
          "max_depth": 9,
          "n_estimator": 2
         },
         {
          "Accuracy": 0.963878294063807,
          "Type": "testing",
          "max_depth": 9,
          "n_estimator": 3
         },
         {
          "Accuracy": 0.9639366823599024,
          "Type": "testing",
          "max_depth": 9,
          "n_estimator": 5
         },
         {
          "Accuracy": 0.9655806350263141,
          "Type": "testing",
          "max_depth": 9,
          "n_estimator": 10
         },
         {
          "Accuracy": 0.9659871005366899,
          "Type": "testing",
          "max_depth": 9,
          "n_estimator": 20
         },
         {
          "Accuracy": 0.9658856892357441,
          "Type": "testing",
          "max_depth": 9,
          "n_estimator": 30
         },
         {
          "Accuracy": 0.9658764306452352,
          "Type": "testing",
          "max_depth": 9,
          "n_estimator": 50
         },
         {
          "Accuracy": 0.9663303885332978,
          "Type": "testing",
          "max_depth": 9,
          "n_estimator": 100
         },
         {
          "Accuracy": 0.9651587028318072,
          "Type": "testing",
          "max_depth": 10,
          "n_estimator": 1
         },
         {
          "Accuracy": 0.9681740995529143,
          "Type": "testing",
          "max_depth": 10,
          "n_estimator": 2
         },
         {
          "Accuracy": 0.9701535662883048,
          "Type": "testing",
          "max_depth": 10,
          "n_estimator": 3
         },
         {
          "Accuracy": 0.9703926664122343,
          "Type": "testing",
          "max_depth": 10,
          "n_estimator": 5
         },
         {
          "Accuracy": 0.9718440407440582,
          "Type": "testing",
          "max_depth": 10,
          "n_estimator": 10
         },
         {
          "Accuracy": 0.9723633865446113,
          "Type": "testing",
          "max_depth": 10,
          "n_estimator": 20
         },
         {
          "Accuracy": 0.9722490593528291,
          "Type": "testing",
          "max_depth": 10,
          "n_estimator": 30
         },
         {
          "Accuracy": 0.972423443283487,
          "Type": "testing",
          "max_depth": 10,
          "n_estimator": 50
         },
         {
          "Accuracy": 0.9728186499979998,
          "Type": "testing",
          "max_depth": 10,
          "n_estimator": 100
         },
         {
          "Accuracy": 0.9707277622589525,
          "Type": "testing",
          "max_depth": 11,
          "n_estimator": 1
         },
         {
          "Accuracy": 0.9739635634627198,
          "Type": "testing",
          "max_depth": 11,
          "n_estimator": 2
         },
         {
          "Accuracy": 0.9761778014848984,
          "Type": "testing",
          "max_depth": 11,
          "n_estimator": 3
         },
         {
          "Accuracy": 0.9764004769576062,
          "Type": "testing",
          "max_depth": 11,
          "n_estimator": 5
         },
         {
          "Accuracy": 0.978167134129968,
          "Type": "testing",
          "max_depth": 11,
          "n_estimator": 10
         },
         {
          "Accuracy": 0.9789264393035467,
          "Type": "testing",
          "max_depth": 11,
          "n_estimator": 20
         },
         {
          "Accuracy": 0.978793292860289,
          "Type": "testing",
          "max_depth": 11,
          "n_estimator": 30
         },
         {
          "Accuracy": 0.9789796759909302,
          "Type": "testing",
          "max_depth": 11,
          "n_estimator": 50
         },
         {
          "Accuracy": 0.9794534206151428,
          "Type": "testing",
          "max_depth": 11,
          "n_estimator": 100
         },
         {
          "Accuracy": 0.9781291330065749,
          "Type": "testing",
          "max_depth": 12,
          "n_estimator": 1
         },
         {
          "Accuracy": 0.9803157865810948,
          "Type": "testing",
          "max_depth": 12,
          "n_estimator": 2
         },
         {
          "Accuracy": 0.9814608106195846,
          "Type": "testing",
          "max_depth": 12,
          "n_estimator": 3
         },
         {
          "Accuracy": 0.9821962189440763,
          "Type": "testing",
          "max_depth": 12,
          "n_estimator": 5
         },
         {
          "Accuracy": 0.9836819492610888,
          "Type": "testing",
          "max_depth": 12,
          "n_estimator": 10
         },
         {
          "Accuracy": 0.9839941952354944,
          "Type": "testing",
          "max_depth": 12,
          "n_estimator": 20
         },
         {
          "Accuracy": 0.9840905267769202,
          "Type": "testing",
          "max_depth": 12,
          "n_estimator": 30
         },
         {
          "Accuracy": 0.984181697594174,
          "Type": "testing",
          "max_depth": 12,
          "n_estimator": 50
         },
         {
          "Accuracy": 0.9844650263351388,
          "Type": "testing",
          "max_depth": 12,
          "n_estimator": 100
         },
         {
          "Accuracy": 0.9808454046448548,
          "Type": "testing",
          "max_depth": 13,
          "n_estimator": 1
         },
         {
          "Accuracy": 0.9832262706737259,
          "Type": "testing",
          "max_depth": 13,
          "n_estimator": 2
         },
         {
          "Accuracy": 0.9843094208046891,
          "Type": "testing",
          "max_depth": 13,
          "n_estimator": 3
         },
         {
          "Accuracy": 0.9853840972350744,
          "Type": "testing",
          "max_depth": 13,
          "n_estimator": 5
         },
         {
          "Accuracy": 0.9867365481171398,
          "Type": "testing",
          "max_depth": 13,
          "n_estimator": 10
         },
         {
          "Accuracy": 0.9870015180776132,
          "Type": "testing",
          "max_depth": 13,
          "n_estimator": 20
         },
         {
          "Accuracy": 0.9872127879110488,
          "Type": "testing",
          "max_depth": 13,
          "n_estimator": 30
         },
         {
          "Accuracy": 0.9873518386675102,
          "Type": "testing",
          "max_depth": 13,
          "n_estimator": 50
         },
         {
          "Accuracy": 0.9875368169554307,
          "Type": "testing",
          "max_depth": 13,
          "n_estimator": 100
         },
         {
          "Accuracy": 0.9832551714461928,
          "Type": "testing",
          "max_depth": 14,
          "n_estimator": 1
         },
         {
          "Accuracy": 0.9855231414818001,
          "Type": "testing",
          "max_depth": 14,
          "n_estimator": 2
         },
         {
          "Accuracy": 0.9865423806633052,
          "Type": "testing",
          "max_depth": 14,
          "n_estimator": 3
         },
         {
          "Accuracy": 0.9879936995505827,
          "Type": "testing",
          "max_depth": 14,
          "n_estimator": 5
         },
         {
          "Accuracy": 0.9892430459361435,
          "Type": "testing",
          "max_depth": 14,
          "n_estimator": 10
         },
         {
          "Accuracy": 0.9894934978795146,
          "Type": "testing",
          "max_depth": 14,
          "n_estimator": 20
         },
         {
          "Accuracy": 0.9896042385011207,
          "Type": "testing",
          "max_depth": 14,
          "n_estimator": 30
         },
         {
          "Accuracy": 0.9897429764753981,
          "Type": "testing",
          "max_depth": 14,
          "n_estimator": 50
         },
         {
          "Accuracy": 0.9898255617825141,
          "Type": "testing",
          "max_depth": 14,
          "n_estimator": 100
         },
         {
          "Accuracy": 0.9849762395772508,
          "Type": "testing",
          "max_depth": 15,
          "n_estimator": 1
         },
         {
          "Accuracy": 0.9873574667081673,
          "Type": "testing",
          "max_depth": 15,
          "n_estimator": 2
         },
         {
          "Accuracy": 0.9884420998816806,
          "Type": "testing",
          "max_depth": 15,
          "n_estimator": 3
         },
         {
          "Accuracy": 0.989847355599538,
          "Type": "testing",
          "max_depth": 15,
          "n_estimator": 5
         },
         {
          "Accuracy": 0.9907450785120635,
          "Type": "testing",
          "max_depth": 15,
          "n_estimator": 10
         },
         {
          "Accuracy": 0.9909641131485645,
          "Type": "testing",
          "max_depth": 15,
          "n_estimator": 20
         },
         {
          "Accuracy": 0.9910361998101588,
          "Type": "testing",
          "max_depth": 15,
          "n_estimator": 30
         },
         {
          "Accuracy": 0.9911681451806219,
          "Type": "testing",
          "max_depth": 15,
          "n_estimator": 50
         },
         {
          "Accuracy": 0.9911949329115028,
          "Type": "testing",
          "max_depth": 15,
          "n_estimator": 100
         },
         {
          "Accuracy": 0.9859848205352552,
          "Type": "testing",
          "max_depth": 16,
          "n_estimator": 1
         },
         {
          "Accuracy": 0.9886537131748877,
          "Type": "testing",
          "max_depth": 16,
          "n_estimator": 2
         },
         {
          "Accuracy": 0.9896523124586931,
          "Type": "testing",
          "max_depth": 16,
          "n_estimator": 3
         },
         {
          "Accuracy": 0.9909473037491329,
          "Type": "testing",
          "max_depth": 16,
          "n_estimator": 5
         },
         {
          "Accuracy": 0.9916977013988756,
          "Type": "testing",
          "max_depth": 16,
          "n_estimator": 10
         },
         {
          "Accuracy": 0.9919742266691586,
          "Type": "testing",
          "max_depth": 16,
          "n_estimator": 20
         },
         {
          "Accuracy": 0.9919871549536481,
          "Type": "testing",
          "max_depth": 16,
          "n_estimator": 30
         },
         {
          "Accuracy": 0.9921292931976976,
          "Type": "testing",
          "max_depth": 16,
          "n_estimator": 50
         },
         {
          "Accuracy": 0.9921462243124681,
          "Type": "testing",
          "max_depth": 16,
          "n_estimator": 100
         },
         {
          "Accuracy": 0.9868773914791613,
          "Type": "testing",
          "max_depth": 17,
          "n_estimator": 1
         },
         {
          "Accuracy": 0.9894344669588683,
          "Type": "testing",
          "max_depth": 17,
          "n_estimator": 2
         },
         {
          "Accuracy": 0.9901929695796516,
          "Type": "testing",
          "max_depth": 17,
          "n_estimator": 3
         },
         {
          "Accuracy": 0.9916675828922608,
          "Type": "testing",
          "max_depth": 17,
          "n_estimator": 5
         },
         {
          "Accuracy": 0.9923628318425498,
          "Type": "testing",
          "max_depth": 17,
          "n_estimator": 10
         },
         {
          "Accuracy": 0.9926248719671685,
          "Type": "testing",
          "max_depth": 17,
          "n_estimator": 20
         },
         {
          "Accuracy": 0.9926211284515135,
          "Type": "testing",
          "max_depth": 17,
          "n_estimator": 30
         },
         {
          "Accuracy": 0.9927620123590466,
          "Type": "testing",
          "max_depth": 17,
          "n_estimator": 50
         },
         {
          "Accuracy": 0.9927357246647608,
          "Type": "testing",
          "max_depth": 17,
          "n_estimator": 100
         }
        ]
       },
       "encoding": {
        "color": {
         "field": "Type",
         "type": "nominal"
        },
        "facet": {
         "field": "n_estimator",
         "type": "quantitative"
        },
        "x": {
         "field": "max_depth",
         "type": "quantitative"
        },
        "y": {
         "field": "Accuracy",
         "scale": {
          "domain": [
           0.92,
           1
          ]
         },
         "type": "quantitative"
        }
       },
       "height": 200,
       "mark": "line",
       "width": 200
      },
      "image/png": "[encoded data removed]",
      "text/plain": [
       "<VegaLite 3 object>\n",
       "\n",
       "If you see this message, it means the renderer has not been properly enabled\n",
       "for the frontend that you are using. For more information, see\n",
       "https://altair-viz.github.io/user_guide/troubleshooting.html\n"
      ]
     },
     "execution_count": 28,
     "metadata": {},
     "output_type": "execute_result"
    }
   ],
   "source": [
    "n_est = [1,2,3,5,10,20,30,50,100]\n",
    "max_depth = range(7,18)\n",
    "X_train, X_test, y_train, y_test = test_train_compound(df)\n",
    "trees = []\n",
    "train_acc = []\n",
    "test_acc = []\n",
    "depth = []\n",
    "for j in max_depth:\n",
    "    for i in n_est:\n",
    "        trees.append(i)\n",
    "        depth.append(j)\n",
    "        rf = RandomForestRegressor(n_estimators = i, max_depth = j, random_state=0).fit(X_train, y_train)\n",
    "        train_acc.append(rf.score(X_train, y_train))\n",
    "        test_acc.append(rf.score(X_test, y_test))\n",
    "        #print(j,i)\n",
    "df_rf = pd.DataFrame({'training' : train_acc,\n",
    "                      'testing' : test_acc,\n",
    "                      'n_estimator' : trees,\n",
    "                      'max_depth' : depth})\n",
    "df_rf = df_rf.melt(id_vars = ['n_estimator', 'max_depth'], var_name = 'Type', value_name = 'Accuracy')\n",
    "df_rf\n",
    "alt.Chart(df_rf).mark_line().encode(\n",
    "    alt.X('max_depth'),\n",
    "    alt.Y('Accuracy', scale=alt.Scale(domain=[0.92, 1])),\n",
    "    alt.Color('Type'),\n",
    "    alt.Facet('n_estimator')\n",
    "    ).properties(width = 200, height = 200, columns = 3)"
   ]
  },
  {
   "cell_type": "markdown",
   "metadata": {},
   "source": [
    "## SVR"
   ]
  },
  {
   "cell_type": "markdown",
   "metadata": {},
   "source": [
    "kernel=\"rbf\", C=100, gamma=0.1, epsilon=0.1\n",
    "\n",
    "https://scikit-learn.org/stable/auto_examples/svm/plot_svm_regression.html"
   ]
  },
  {
   "cell_type": "code",
   "execution_count": 29,
   "metadata": {},
   "outputs": [
    {
     "name": "stdout",
     "output_type": "stream",
     "text": [
      "The 4 matrices are of sizes:  (49392, 3) (12348, 3) (49392,) (12348,)\n",
      "The training accuracy for the model is  0.12110824666697595\n",
      "The testing accuracy for the model is  0.11569587187306518\n"
     ]
    }
   ],
   "source": [
    "def svr_rbf(df):\n",
    "    X_train, X_test, y_train, y_test = test_train_compound(df)\n",
    "    print(\"The 4 matrices are of sizes: \", X_train.shape, X_test.shape, y_train.shape, y_test.shape)\n",
    "    svr_rbf = SVR(kernel=\"rbf\").fit(X_train, y_train)\n",
    "    \n",
    "    df_pred = df.copy()\n",
    "    df_pred['predicted_wt'] = svr_rbf.predict(df[[\"wave\", \"temp\", \"time\"]])\n",
    "    df_pred.to_csv('output/scenario1/prediction_svr_rbf.csv')\n",
    "    \n",
    "    print(\"The training accuracy for the model is \", svr_rbf.score(X_train, y_train))\n",
    "    print(\"The testing accuracy for the model is \", svr_rbf.score(X_test, y_test))\n",
    "    \n",
    "    return pd.DataFrame({'Model': 'SVR RBF Kernel',\n",
    "                           'Train Accuracy': svr_rbf.score(X_train, y_train),\n",
    "                           'Test Accuracy' : svr_rbf.score(X_test, y_test)}, index=[None])\n",
    "\n",
    "df_results = df_results.append(svr_rbf(df))"
   ]
  },
  {
   "cell_type": "markdown",
   "metadata": {},
   "source": [
    "## GBR"
   ]
  },
  {
   "cell_type": "code",
   "execution_count": 30,
   "metadata": {},
   "outputs": [
    {
     "name": "stdout",
     "output_type": "stream",
     "text": [
      "The 4 matrices are of sizes:  (49392, 3) (12348, 3) (49392,) (12348,)\n",
      "The training accuracy for the model is  0.9498700791212137\n",
      "The testing accuracy for the model is  0.9475605055280988\n"
     ]
    }
   ],
   "source": [
    "def gbr(df):\n",
    "    X_train, X_test, y_train, y_test = test_train_compound(df)\n",
    "    print(\"The 4 matrices are of sizes: \", X_train.shape, X_test.shape, y_train.shape, y_test.shape)\n",
    "    gbr = GradientBoostingRegressor().fit(X_train,y_train)\n",
    "    \n",
    "    df_pred = df.copy()\n",
    "    df_pred['predicted_wt'] = gbr.predict(df[[\"wave\", \"temp\", \"time\"]])\n",
    "    df_pred.to_csv('output/scenario1/prediction_gbr.csv')\n",
    "    \n",
    "    print(\"The training accuracy for the model is \", gbr.score(X_train, y_train))\n",
    "    print(\"The testing accuracy for the model is \", gbr.score(X_test, y_test))\n",
    "    \n",
    "    return pd.DataFrame({'Model': 'Gradient Boost Regressor',\n",
    "                           'Train Accuracy': gbr.score(X_train, y_train),\n",
    "                           'Test Accuracy' : gbr.score(X_test, y_test)}, index=[None])\n",
    "\n",
    "df_results = df_results.append(gbr(df))"
   ]
  },
  {
   "cell_type": "code",
   "execution_count": 31,
   "metadata": {},
   "outputs": [
    {
     "data": {
      "text/html": [
       "<div>\n",
       "<style scoped>\n",
       "    .dataframe tbody tr th:only-of-type {\n",
       "        vertical-align: middle;\n",
       "    }\n",
       "\n",
       "    .dataframe tbody tr th {\n",
       "        vertical-align: top;\n",
       "    }\n",
       "\n",
       "    .dataframe thead th {\n",
       "        text-align: right;\n",
       "    }\n",
       "</style>\n",
       "<table border=\"1\" class=\"dataframe\">\n",
       "  <thead>\n",
       "    <tr style=\"text-align: right;\">\n",
       "      <th></th>\n",
       "      <th>Model</th>\n",
       "      <th>Compound</th>\n",
       "      <th>Train Accuracy</th>\n",
       "      <th>Test Accuracy</th>\n",
       "    </tr>\n",
       "  </thead>\n",
       "  <tbody>\n",
       "    <tr>\n",
       "      <th>NaN</th>\n",
       "      <td>Linear Regression</td>\n",
       "      <td>NaN</td>\n",
       "      <td>0.096842</td>\n",
       "      <td>0.091891</td>\n",
       "    </tr>\n",
       "    <tr>\n",
       "      <th>NaN</th>\n",
       "      <td>Partial Least Squares (n=2)</td>\n",
       "      <td>NaN</td>\n",
       "      <td>0.096840</td>\n",
       "      <td>0.091881</td>\n",
       "    </tr>\n",
       "    <tr>\n",
       "      <th>NaN</th>\n",
       "      <td>Partial Least Squares (n=3)</td>\n",
       "      <td>NaN</td>\n",
       "      <td>0.096842</td>\n",
       "      <td>0.091891</td>\n",
       "    </tr>\n",
       "    <tr>\n",
       "      <th>NaN</th>\n",
       "      <td>Random Forest Regression (max_depth = 2)</td>\n",
       "      <td>NaN</td>\n",
       "      <td>0.460389</td>\n",
       "      <td>0.467327</td>\n",
       "    </tr>\n",
       "    <tr>\n",
       "      <th>NaN</th>\n",
       "      <td>Random Forest Regression (max_depth = 5)</td>\n",
       "      <td>NaN</td>\n",
       "      <td>0.871161</td>\n",
       "      <td>0.866839</td>\n",
       "    </tr>\n",
       "    <tr>\n",
       "      <th>NaN</th>\n",
       "      <td>Random Forest Regression (max_depth = 7)</td>\n",
       "      <td>NaN</td>\n",
       "      <td>0.937524</td>\n",
       "      <td>0.937823</td>\n",
       "    </tr>\n",
       "    <tr>\n",
       "      <th>NaN</th>\n",
       "      <td>Random Forest Regression (max_depth = 7)</td>\n",
       "      <td>NaN</td>\n",
       "      <td>0.973788</td>\n",
       "      <td>0.972819</td>\n",
       "    </tr>\n",
       "    <tr>\n",
       "      <th>NaN</th>\n",
       "      <td>Random Forest Regression (max_depth = 15)</td>\n",
       "      <td>NaN</td>\n",
       "      <td>0.995062</td>\n",
       "      <td>0.991195</td>\n",
       "    </tr>\n",
       "    <tr>\n",
       "      <th>NaN</th>\n",
       "      <td>SVR RBF Kernel</td>\n",
       "      <td>NaN</td>\n",
       "      <td>0.121108</td>\n",
       "      <td>0.115696</td>\n",
       "    </tr>\n",
       "    <tr>\n",
       "      <th>NaN</th>\n",
       "      <td>Gradient Boost Regressor</td>\n",
       "      <td>NaN</td>\n",
       "      <td>0.949870</td>\n",
       "      <td>0.947561</td>\n",
       "    </tr>\n",
       "  </tbody>\n",
       "</table>\n",
       "</div>"
      ],
      "text/plain": [
       "                                         Model  Compound  Train Accuracy  \\\n",
       "NaN                          Linear Regression       NaN        0.096842   \n",
       "NaN                Partial Least Squares (n=2)       NaN        0.096840   \n",
       "NaN                Partial Least Squares (n=3)       NaN        0.096842   \n",
       "NaN   Random Forest Regression (max_depth = 2)       NaN        0.460389   \n",
       "NaN   Random Forest Regression (max_depth = 5)       NaN        0.871161   \n",
       "NaN   Random Forest Regression (max_depth = 7)       NaN        0.937524   \n",
       "NaN   Random Forest Regression (max_depth = 7)       NaN        0.973788   \n",
       "NaN  Random Forest Regression (max_depth = 15)       NaN        0.995062   \n",
       "NaN                             SVR RBF Kernel       NaN        0.121108   \n",
       "NaN                   Gradient Boost Regressor       NaN        0.949870   \n",
       "\n",
       "     Test Accuracy  \n",
       "NaN       0.091891  \n",
       "NaN       0.091881  \n",
       "NaN       0.091891  \n",
       "NaN       0.467327  \n",
       "NaN       0.866839  \n",
       "NaN       0.937823  \n",
       "NaN       0.972819  \n",
       "NaN       0.991195  \n",
       "NaN       0.115696  \n",
       "NaN       0.947561  "
      ]
     },
     "execution_count": 31,
     "metadata": {},
     "output_type": "execute_result"
    }
   ],
   "source": [
    "df_results"
   ]
  },
  {
   "cell_type": "code",
   "execution_count": null,
   "metadata": {},
   "outputs": [],
   "source": [
    "# n_est = [1,2,3,5,10,20,30,50,100]\n",
    "# max_depth = range(1,8)\n",
    "# X_train, X_test, y_train, y_test = test_train_compound(df)\n",
    "# trees = []\n",
    "# train_acc = []\n",
    "# test_acc = []\n",
    "# depth = []\n",
    "# for j in max_depth:\n",
    "#     for i in n_est:\n",
    "#         trees.append(i)\n",
    "#         depth.append(j)\n",
    "#         gbr = GradientBoostingRegressor(n_estimators = i, max_depth = j, random_state=0).fit(X_train, y_train)\n",
    "#         train_acc.append(gbr.score(X_train, y_train))\n",
    "#         test_acc.append(gbr.score(X_test, y_test))\n",
    "#         print(j,i)\n",
    "# df_gbr = pd.DataFrame({'training' : train_acc,\n",
    "#                       'testing' : test_acc,\n",
    "#                       'n_estimator' : trees,\n",
    "#                       'max_depth' : depth})\n",
    "# df_gbr = df_gbr.melt(id_vars = ['n_estimator', 'max_depth'], var_name = 'Type', value_name = 'Accuracy')\n",
    "# df_gbr\n",
    "# alt.Chart(df_gbr).mark_line().encode(\n",
    "#     alt.X('n_estimator'),\n",
    "#     alt.Y('Accuracy', scale=alt.Scale(domain=[0, 1])),\n",
    "#     alt.Color('Type'),\n",
    "#     alt.Facet('max_depth')\n",
    "#     ).properties(width = 200, height = 200, columns = 3)"
   ]
  },
  {
   "cell_type": "code",
   "execution_count": null,
   "metadata": {},
   "outputs": [],
   "source": []
  },
  {
   "cell_type": "markdown",
   "metadata": {},
   "source": [
    "## Write results to file"
   ]
  },
  {
   "cell_type": "code",
   "execution_count": 32,
   "metadata": {},
   "outputs": [],
   "source": [
    "df_results.to_csv('output/scenario1/results_table.csv')"
   ]
  },
  {
   "cell_type": "code",
   "execution_count": null,
   "metadata": {},
   "outputs": [],
   "source": []
  }
 ],
 "metadata": {
  "kernelspec": {
   "display_name": "Python 3",
   "language": "python",
   "name": "python3"
  },
  "language_info": {
   "codemirror_mode": {
    "name": "ipython",
    "version": 3
   },
   "file_extension": ".py",
   "mimetype": "text/x-python",
   "name": "python",
   "nbconvert_exporter": "python",
   "pygments_lexer": "ipython3",
   "version": "3.7.6"
  }
 },
 "nbformat": 4,
 "nbformat_minor": 4
}
